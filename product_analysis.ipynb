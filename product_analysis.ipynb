{
 "cells": [
  {
   "cell_type": "markdown",
   "metadata": {},
   "source": [
    "## Programming for Data Analyis Project Semester (2) 2020\n",
    "Brendan Ryan GMIT"
   ]
  },
  {
   "cell_type": "markdown",
   "metadata": {},
   "source": [
    "I have picked on a real world phenomenon in my own professional life. This is what  is the likelyhood of a member of the finanical instituion I work in availing of a service (in this case take a loan), based on their age, sex and employment status and then look at the the type of product they normally borrow for. "
   ]
  },
  {
   "cell_type": "markdown",
   "metadata": {},
   "source": [
    "I will be using the following varibales\n",
    "\n",
    "AGE \n",
    "SEX\n",
    "LOAN PRODUCT\n",
    "EMPLOYMENNT STATUS\n",
    "LIKELY TO BORROW"
   ]
  },
  {
   "cell_type": "code",
   "execution_count": 7,
   "metadata": {},
   "outputs": [],
   "source": [
    "import pandas as pd\n",
    "import numpy as np\n",
    "import seaborn as sns"
   ]
  },
  {
   "cell_type": "code",
   "execution_count": 4,
   "metadata": {},
   "outputs": [],
   "source": [
    "import pandas as pd\n",
    "df = pd.read_csv('test.csv')"
   ]
  },
  {
   "cell_type": "code",
   "execution_count": 5,
   "metadata": {},
   "outputs": [
    {
     "data": {
      "text/plain": [
       "Financial Month                   object\n",
       "Age                                int64\n",
       "Loan Interest Code Description    object\n",
       "Gender                            object\n",
       "Employment Status                 object\n",
       "dtype: object"
      ]
     },
     "execution_count": 5,
     "metadata": {},
     "output_type": "execute_result"
    }
   ],
   "source": [
    "df.dtypes"
   ]
  },
  {
   "cell_type": "code",
   "execution_count": 16,
   "metadata": {},
   "outputs": [
    {
     "data": {
      "text/html": [
       "<div>\n",
       "<style scoped>\n",
       "    .dataframe tbody tr th:only-of-type {\n",
       "        vertical-align: middle;\n",
       "    }\n",
       "\n",
       "    .dataframe tbody tr th {\n",
       "        vertical-align: top;\n",
       "    }\n",
       "\n",
       "    .dataframe thead th {\n",
       "        text-align: right;\n",
       "    }\n",
       "</style>\n",
       "<table border=\"1\" class=\"dataframe\">\n",
       "  <thead>\n",
       "    <tr style=\"text-align: right;\">\n",
       "      <th></th>\n",
       "      <th>Financial Month</th>\n",
       "      <th>Age</th>\n",
       "      <th>Loan Interest Code Description</th>\n",
       "      <th>Gender</th>\n",
       "      <th>Employment Status</th>\n",
       "    </tr>\n",
       "  </thead>\n",
       "  <tbody>\n",
       "    <tr>\n",
       "      <th>0</th>\n",
       "      <td>Jan-19</td>\n",
       "      <td>20</td>\n",
       "      <td>SECURED BY SAVINGS 6% APR</td>\n",
       "      <td>FEMALE</td>\n",
       "      <td>EMPLOYED FULL-TIME</td>\n",
       "    </tr>\n",
       "    <tr>\n",
       "      <th>1</th>\n",
       "      <td>Jan-19</td>\n",
       "      <td>21</td>\n",
       "      <td>NORMAL RATE 10.4% APR</td>\n",
       "      <td>Male</td>\n",
       "      <td>EMPLOYED PART-TIME</td>\n",
       "    </tr>\n",
       "    <tr>\n",
       "      <th>2</th>\n",
       "      <td>Jan-19</td>\n",
       "      <td>22</td>\n",
       "      <td>CONNECT FIRST TIME 7.12% APR</td>\n",
       "      <td>Male</td>\n",
       "      <td>EMPLOYED FULL-TIME</td>\n",
       "    </tr>\n",
       "    <tr>\n",
       "      <th>3</th>\n",
       "      <td>Jan-19</td>\n",
       "      <td>22</td>\n",
       "      <td>NORMAL RATE 10.4% APR</td>\n",
       "      <td>Male</td>\n",
       "      <td>EMPLOYED FULL-TIME</td>\n",
       "    </tr>\n",
       "    <tr>\n",
       "      <th>4</th>\n",
       "      <td>Jan-19</td>\n",
       "      <td>22</td>\n",
       "      <td>NORMAL RATE 10.4% APR</td>\n",
       "      <td>Male</td>\n",
       "      <td>UNEMPLOYED</td>\n",
       "    </tr>\n",
       "    <tr>\n",
       "      <th>...</th>\n",
       "      <td>...</td>\n",
       "      <td>...</td>\n",
       "      <td>...</td>\n",
       "      <td>...</td>\n",
       "      <td>...</td>\n",
       "    </tr>\n",
       "    <tr>\n",
       "      <th>4024</th>\n",
       "      <td>Dec-19</td>\n",
       "      <td>80</td>\n",
       "      <td>SPECIAL CAR RATE 8.5 APR</td>\n",
       "      <td>Male</td>\n",
       "      <td>RETIRED</td>\n",
       "    </tr>\n",
       "    <tr>\n",
       "      <th>4025</th>\n",
       "      <td>Dec-19</td>\n",
       "      <td>81</td>\n",
       "      <td>NORMAL RATE 10.4% APR</td>\n",
       "      <td>FEMALE</td>\n",
       "      <td>RETIRED</td>\n",
       "    </tr>\n",
       "    <tr>\n",
       "      <th>4026</th>\n",
       "      <td>Dec-19</td>\n",
       "      <td>82</td>\n",
       "      <td>NORMAL RATE 10.4% APR</td>\n",
       "      <td>FEMALE</td>\n",
       "      <td>RETIRED</td>\n",
       "    </tr>\n",
       "    <tr>\n",
       "      <th>4027</th>\n",
       "      <td>Dec-19</td>\n",
       "      <td>85</td>\n",
       "      <td>SECURED BY SAVINGS 6% APR</td>\n",
       "      <td>FEMALE</td>\n",
       "      <td>RETIRED</td>\n",
       "    </tr>\n",
       "    <tr>\n",
       "      <th>4028</th>\n",
       "      <td>Dec-19</td>\n",
       "      <td>89</td>\n",
       "      <td>SECURED BY SAVINGS 6% APR</td>\n",
       "      <td>FEMALE</td>\n",
       "      <td>OTHER</td>\n",
       "    </tr>\n",
       "  </tbody>\n",
       "</table>\n",
       "<p>4029 rows × 5 columns</p>\n",
       "</div>"
      ],
      "text/plain": [
       "     Financial Month  Age Loan Interest Code Description  Gender  \\\n",
       "0             Jan-19   20      SECURED BY SAVINGS 6% APR  FEMALE   \n",
       "1             Jan-19   21          NORMAL RATE 10.4% APR    Male   \n",
       "2             Jan-19   22   CONNECT FIRST TIME 7.12% APR    Male   \n",
       "3             Jan-19   22          NORMAL RATE 10.4% APR    Male   \n",
       "4             Jan-19   22          NORMAL RATE 10.4% APR    Male   \n",
       "...              ...  ...                            ...     ...   \n",
       "4024          Dec-19   80       SPECIAL CAR RATE 8.5 APR    Male   \n",
       "4025          Dec-19   81          NORMAL RATE 10.4% APR  FEMALE   \n",
       "4026          Dec-19   82          NORMAL RATE 10.4% APR  FEMALE   \n",
       "4027          Dec-19   85      SECURED BY SAVINGS 6% APR  FEMALE   \n",
       "4028          Dec-19   89      SECURED BY SAVINGS 6% APR  FEMALE   \n",
       "\n",
       "       Employment Status  \n",
       "0     EMPLOYED FULL-TIME  \n",
       "1     EMPLOYED PART-TIME  \n",
       "2     EMPLOYED FULL-TIME  \n",
       "3     EMPLOYED FULL-TIME  \n",
       "4             UNEMPLOYED  \n",
       "...                  ...  \n",
       "4024             RETIRED  \n",
       "4025             RETIRED  \n",
       "4026             RETIRED  \n",
       "4027             RETIRED  \n",
       "4028               OTHER  \n",
       "\n",
       "[4029 rows x 5 columns]"
      ]
     },
     "execution_count": 16,
     "metadata": {},
     "output_type": "execute_result"
    }
   ],
   "source": [
    "df"
   ]
  },
  {
   "cell_type": "code",
   "execution_count": 18,
   "metadata": {},
   "outputs": [
    {
     "data": {
      "text/plain": [
       "0       20\n",
       "1       21\n",
       "2       22\n",
       "3       22\n",
       "4       22\n",
       "        ..\n",
       "4024    80\n",
       "4025    81\n",
       "4026    82\n",
       "4027    85\n",
       "4028    89\n",
       "Name: Age, Length: 4029, dtype: int64"
      ]
     },
     "execution_count": 18,
     "metadata": {},
     "output_type": "execute_result"
    }
   ],
   "source": [
    "df[\"Age\"]"
   ]
  },
  {
   "cell_type": "code",
   "execution_count": 19,
   "metadata": {},
   "outputs": [
    {
     "data": {
      "text/plain": [
       "0       FEMALE\n",
       "1         Male\n",
       "2         Male\n",
       "3         Male\n",
       "4         Male\n",
       "         ...  \n",
       "4024      Male\n",
       "4025    FEMALE\n",
       "4026    FEMALE\n",
       "4027    FEMALE\n",
       "4028    FEMALE\n",
       "Name: Gender, Length: 4029, dtype: object"
      ]
     },
     "execution_count": 19,
     "metadata": {},
     "output_type": "execute_result"
    }
   ],
   "source": [
    "df[\"Gender\"]"
   ]
  },
  {
   "cell_type": "code",
   "execution_count": 20,
   "metadata": {},
   "outputs": [
    {
     "data": {
      "text/plain": [
       "<bound method NDFrame.head of      Financial Month  Age Loan Interest Code Description  Gender  \\\n",
       "0             Jan-19   20      SECURED BY SAVINGS 6% APR  FEMALE   \n",
       "1             Jan-19   21          NORMAL RATE 10.4% APR    Male   \n",
       "2             Jan-19   22   CONNECT FIRST TIME 7.12% APR    Male   \n",
       "3             Jan-19   22          NORMAL RATE 10.4% APR    Male   \n",
       "4             Jan-19   22          NORMAL RATE 10.4% APR    Male   \n",
       "...              ...  ...                            ...     ...   \n",
       "4024          Dec-19   80       SPECIAL CAR RATE 8.5 APR    Male   \n",
       "4025          Dec-19   81          NORMAL RATE 10.4% APR  FEMALE   \n",
       "4026          Dec-19   82          NORMAL RATE 10.4% APR  FEMALE   \n",
       "4027          Dec-19   85      SECURED BY SAVINGS 6% APR  FEMALE   \n",
       "4028          Dec-19   89      SECURED BY SAVINGS 6% APR  FEMALE   \n",
       "\n",
       "       Employment Status  \n",
       "0     EMPLOYED FULL-TIME  \n",
       "1     EMPLOYED PART-TIME  \n",
       "2     EMPLOYED FULL-TIME  \n",
       "3     EMPLOYED FULL-TIME  \n",
       "4             UNEMPLOYED  \n",
       "...                  ...  \n",
       "4024             RETIRED  \n",
       "4025             RETIRED  \n",
       "4026             RETIRED  \n",
       "4027             RETIRED  \n",
       "4028               OTHER  \n",
       "\n",
       "[4029 rows x 5 columns]>"
      ]
     },
     "execution_count": 20,
     "metadata": {},
     "output_type": "execute_result"
    }
   ],
   "source": [
    "df.head"
   ]
  },
  {
   "cell_type": "code",
   "execution_count": null,
   "metadata": {},
   "outputs": [],
   "source": []
  }
 ],
 "metadata": {
  "kernelspec": {
   "display_name": "Python 3",
   "language": "python",
   "name": "python3"
  },
  "language_info": {
   "codemirror_mode": {
    "name": "ipython",
    "version": 3
   },
   "file_extension": ".py",
   "mimetype": "text/x-python",
   "name": "python",
   "nbconvert_exporter": "python",
   "pygments_lexer": "ipython3",
   "version": "3.8.3"
  }
 },
 "nbformat": 4,
 "nbformat_minor": 4
}
