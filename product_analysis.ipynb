{
 "cells": [
  {
   "cell_type": "markdown",
   "metadata": {},
   "source": [
    "## Programming for Data Analyis Project Semester (2) 2020\n",
    "Brendan Ryan GMIT"
   ]
  },
  {
   "cell_type": "markdown",
   "metadata": {},
   "source": [
    "## Project Overview"
   ]
  },
  {
   "cell_type": "markdown",
   "metadata": {},
   "source": [
    "For this project I have picked a real world phenomenon that exists in my own professional worplace which is a credit union.\n",
    "\n",
    "That is what  is the likelyhood of a member of the financial institution I work in availing of a service (in this case avail of a loan), based on variables that are contained in a pre existing database - for my project I will look at the variables listed below"
   ]
  },
  {
   "cell_type": "markdown",
   "metadata": {},
   "source": [
    "- AGE\n",
    "- Month (month of application)\n",
    "- Date (date of appliation)\n",
    "- Employment Status\n",
    "- Gender\n",
    "- Loan Type\n",
    "- Loan Amount Range\n",
    "- Loan Amount\n",
    "\n",
    "\n",
    "My main aim is to be able to determine the particular loan type that will be availabe of by Age and Gender."
   ]
  },
  {
   "cell_type": "markdown",
   "metadata": {},
   "source": [
    "#### Project Aims"
   ]
  },
  {
   "cell_type": "markdown",
   "metadata": {},
   "source": [
    "The aim of this project is to extract and analyise a real world phenomenon which is lending by age profile and from this try and determine the probabilites of loan products by age group and gender.\n",
    "\n",
    "I will do this analysis using Python code through a jupyter notebook and utilising various additional libraries will review and analise my dataset. \n",
    "\n",
    "In particular I want to look for any relationships between the variables and their likely distributions. \n",
    "\n",
    "From this research I then aim to create a synthetic simulated data set that will match as closely to my real world dataset. This simulated dataset could then be used for further testing and with a view to making predictions etc"
   ]
  },
  {
   "cell_type": "markdown",
   "metadata": {},
   "source": [
    "#### How did i obtain the data?"
   ]
  },
  {
   "cell_type": "markdown",
   "metadata": {},
   "source": [
    "I obtained the data from an internal system using Business Intellegince software. That software that was used was Pentago BI. \n",
    "I extracted the data I felt I needed (the varibales) and this data was extracted/exported to a csv file. This was ideal as phython and pandas is widely used to analysise data contained in the CSV file format. The CSV file is saved in my repository as analysis.csv. This csv does not contain any presonal information and is used more for identifying trends."
   ]
  },
  {
   "cell_type": "markdown",
   "metadata": {},
   "source": [
    "#### External Research of borrowing by Age profile"
   ]
  },
  {
   "cell_type": "markdown",
   "metadata": {},
   "source": [
    "The majority of my analysis will be based around the data that i have extracted i.e the real life data. There is a wealth of data availabel online however i felt most of this data related more to the mortage market and outstanding debit where i am more interested in this particular project to look at new borrowing and the profile of same. However i feel that with this course and futher reading and experimenting i will do a project on loans outstading by difference demographics etc and analysise trends over a number of years. I will however include the following as i found them interesting and i will quote external sources in some of my findings as we analise the data further."
   ]
  },
  {
   "cell_type": "markdown",
   "metadata": {},
   "source": [
    "In the graph below which shows the number of products held by age profile in a sample financial instituion. It is intersting to note here that number of products held (including loans) starts to rise sharply from age 30 - peaking in the age group 45 - 54 and then delcining from age 55 onwards - it will be interesting to see if this is similar ot the patter or loans applied for by age groups in my dataset. - source https://www.cso.ie/en/releasesandpublications/ep/p-hfcs/householdfinanceandconsumptionsurvey2018/debtandcredit/"
   ]
  },
  {
   "cell_type": "markdown",
   "metadata": {},
   "source": [
    "<img src=\"images/image1.jpg\">"
   ]
  },
  {
   "cell_type": "markdown",
   "metadata": {},
   "source": [
    "Again in the next graph we can see the Distribution of average debt from personal loans* in the United Kingdom (UK) 2017, by age profile - although this graph looks at the debt outstanding it also gives usa nother indication as to the age profile of peronal lending. - https://www.statista.com/statistics/793646/average-amount-owed-in-loans-uk/"
   ]
  },
  {
   "cell_type": "markdown",
   "metadata": {},
   "source": [
    "<img src=\"images/image2.jpg\">"
   ]
  },
  {
   "cell_type": "markdown",
   "metadata": {},
   "source": [
    "As we can see from the graph above the main age mean is approx 40 years old increasing from age 25 upwards and declinning again from age 45 onwards - I would expect to see this follow through in the analysis of my own data set  -lets see"
   ]
  },
  {
   "cell_type": "markdown",
   "metadata": {},
   "source": [
    "#### Getting Started"
   ]
  },
  {
   "cell_type": "markdown",
   "metadata": {},
   "source": [
    "Import the required libraries"
   ]
  },
  {
   "cell_type": "code",
   "execution_count": 1,
   "metadata": {},
   "outputs": [],
   "source": [
    "#code to import pandas is a software library for data manipulation and analysis\n",
    "import pandas as pd\n",
    "#code to import numpy for working with arrays scientific computer etc \n",
    "import numpy as np\n",
    "#code to import matplotlib plotting library\n",
    "import matplotlib.pyplot as plt\n",
    "#code to import seaborn - more plots better visual\n",
    "import seaborn as sns"
   ]
  },
  {
   "cell_type": "markdown",
   "metadata": {},
   "source": [
    "Import our Data Set based on the output of ones years lending - we are going to use Pandas library to read and for analysing our data set."
   ]
  },
  {
   "cell_type": "code",
   "execution_count": 2,
   "metadata": {},
   "outputs": [],
   "source": [
    "#import my dataset and best practice name as df\n",
    "df = pd.read_csv('analysis.csv')"
   ]
  },
  {
   "cell_type": "markdown",
   "metadata": {},
   "source": [
    "## Test that our data set has loaded and check for errors \n",
    "** note maybe add in here only to load some rows"
   ]
  },
  {
   "cell_type": "code",
   "execution_count": 3,
   "metadata": {},
   "outputs": [
    {
     "data": {
      "text/html": [
       "<div>\n",
       "<style scoped>\n",
       "    .dataframe tbody tr th:only-of-type {\n",
       "        vertical-align: middle;\n",
       "    }\n",
       "\n",
       "    .dataframe tbody tr th {\n",
       "        vertical-align: top;\n",
       "    }\n",
       "\n",
       "    .dataframe thead th {\n",
       "        text-align: right;\n",
       "    }\n",
       "</style>\n",
       "<table border=\"1\" class=\"dataframe\">\n",
       "  <thead>\n",
       "    <tr style=\"text-align: right;\">\n",
       "      <th></th>\n",
       "      <th>age</th>\n",
       "      <th>month_application</th>\n",
       "      <th>date_application</th>\n",
       "      <th>employment_status</th>\n",
       "      <th>gender</th>\n",
       "      <th>loan_purpose</th>\n",
       "      <th>loan_amount_range</th>\n",
       "      <th>loan_amount</th>\n",
       "    </tr>\n",
       "  </thead>\n",
       "  <tbody>\n",
       "    <tr>\n",
       "      <th>0</th>\n",
       "      <td>19</td>\n",
       "      <td>October</td>\n",
       "      <td>04/10/2019</td>\n",
       "      <td>FULL TIME</td>\n",
       "      <td>Male</td>\n",
       "      <td>Car</td>\n",
       "      <td>10,001 - 15,000</td>\n",
       "      <td>13000.0</td>\n",
       "    </tr>\n",
       "    <tr>\n",
       "      <th>1</th>\n",
       "      <td>19</td>\n",
       "      <td>August</td>\n",
       "      <td>28/08/2019</td>\n",
       "      <td>STUDENT</td>\n",
       "      <td>Male</td>\n",
       "      <td>Student</td>\n",
       "      <td>1,001 - 5,000</td>\n",
       "      <td>3000.0</td>\n",
       "    </tr>\n",
       "    <tr>\n",
       "      <th>2</th>\n",
       "      <td>19</td>\n",
       "      <td>March</td>\n",
       "      <td>28/03/2019</td>\n",
       "      <td>FULL TIME</td>\n",
       "      <td>Male</td>\n",
       "      <td>Personal</td>\n",
       "      <td>5,001 - 10,000</td>\n",
       "      <td>7000.0</td>\n",
       "    </tr>\n",
       "    <tr>\n",
       "      <th>3</th>\n",
       "      <td>19</td>\n",
       "      <td>September</td>\n",
       "      <td>28/09/2019</td>\n",
       "      <td>STUDENT</td>\n",
       "      <td>FEMALE</td>\n",
       "      <td>Student</td>\n",
       "      <td>0 - 1,000</td>\n",
       "      <td>1000.0</td>\n",
       "    </tr>\n",
       "    <tr>\n",
       "      <th>4</th>\n",
       "      <td>19</td>\n",
       "      <td>August</td>\n",
       "      <td>22/08/2019</td>\n",
       "      <td>STUDENT</td>\n",
       "      <td>Male</td>\n",
       "      <td>Student</td>\n",
       "      <td>5,001 - 10,000</td>\n",
       "      <td>10000.0</td>\n",
       "    </tr>\n",
       "    <tr>\n",
       "      <th>...</th>\n",
       "      <td>...</td>\n",
       "      <td>...</td>\n",
       "      <td>...</td>\n",
       "      <td>...</td>\n",
       "      <td>...</td>\n",
       "      <td>...</td>\n",
       "      <td>...</td>\n",
       "      <td>...</td>\n",
       "    </tr>\n",
       "    <tr>\n",
       "      <th>3931</th>\n",
       "      <td>85</td>\n",
       "      <td>June</td>\n",
       "      <td>07/06/2019</td>\n",
       "      <td>RETIRED</td>\n",
       "      <td>FEMALE</td>\n",
       "      <td>Personal</td>\n",
       "      <td>0 - 1,000</td>\n",
       "      <td>600.0</td>\n",
       "    </tr>\n",
       "    <tr>\n",
       "      <th>3932</th>\n",
       "      <td>85</td>\n",
       "      <td>February</td>\n",
       "      <td>25/02/2019</td>\n",
       "      <td>RETIRED</td>\n",
       "      <td>FEMALE</td>\n",
       "      <td>Personal</td>\n",
       "      <td>0 - 1,000</td>\n",
       "      <td>1000.0</td>\n",
       "    </tr>\n",
       "    <tr>\n",
       "      <th>3933</th>\n",
       "      <td>85</td>\n",
       "      <td>December</td>\n",
       "      <td>02/12/2019</td>\n",
       "      <td>RETIRED</td>\n",
       "      <td>FEMALE</td>\n",
       "      <td>Personal</td>\n",
       "      <td>1,001 - 5,000</td>\n",
       "      <td>2000.0</td>\n",
       "    </tr>\n",
       "    <tr>\n",
       "      <th>3934</th>\n",
       "      <td>87</td>\n",
       "      <td>March</td>\n",
       "      <td>01/03/2019</td>\n",
       "      <td>RETIRED</td>\n",
       "      <td>FEMALE</td>\n",
       "      <td>Personal</td>\n",
       "      <td>1,001 - 5,000</td>\n",
       "      <td>2000.0</td>\n",
       "    </tr>\n",
       "    <tr>\n",
       "      <th>3935</th>\n",
       "      <td>89</td>\n",
       "      <td>March</td>\n",
       "      <td>28/03/2019</td>\n",
       "      <td>RETIRED</td>\n",
       "      <td>FEMALE</td>\n",
       "      <td>Personal</td>\n",
       "      <td>1,001 - 5,000</td>\n",
       "      <td>3000.0</td>\n",
       "    </tr>\n",
       "  </tbody>\n",
       "</table>\n",
       "<p>3936 rows × 8 columns</p>\n",
       "</div>"
      ],
      "text/plain": [
       "      age month_application date_application employment_status  gender  \\\n",
       "0      19           October       04/10/2019         FULL TIME    Male   \n",
       "1      19            August       28/08/2019           STUDENT    Male   \n",
       "2      19             March       28/03/2019         FULL TIME    Male   \n",
       "3      19         September       28/09/2019           STUDENT  FEMALE   \n",
       "4      19            August       22/08/2019           STUDENT    Male   \n",
       "...   ...               ...              ...               ...     ...   \n",
       "3931   85              June       07/06/2019           RETIRED  FEMALE   \n",
       "3932   85          February       25/02/2019           RETIRED  FEMALE   \n",
       "3933   85          December       02/12/2019           RETIRED  FEMALE   \n",
       "3934   87             March       01/03/2019           RETIRED  FEMALE   \n",
       "3935   89             March       28/03/2019           RETIRED  FEMALE   \n",
       "\n",
       "     loan_purpose loan_amount_range  loan_amount  \n",
       "0             Car   10,001 - 15,000      13000.0  \n",
       "1         Student     1,001 - 5,000       3000.0  \n",
       "2        Personal    5,001 - 10,000       7000.0  \n",
       "3         Student         0 - 1,000       1000.0  \n",
       "4         Student    5,001 - 10,000      10000.0  \n",
       "...           ...               ...          ...  \n",
       "3931     Personal         0 - 1,000        600.0  \n",
       "3932     Personal         0 - 1,000       1000.0  \n",
       "3933     Personal     1,001 - 5,000       2000.0  \n",
       "3934     Personal     1,001 - 5,000       2000.0  \n",
       "3935     Personal     1,001 - 5,000       3000.0  \n",
       "\n",
       "[3936 rows x 8 columns]"
      ]
     },
     "execution_count": 3,
     "metadata": {},
     "output_type": "execute_result"
    }
   ],
   "source": [
    "df\n",
    "# I can if i want if its a large dataset only return lets say 100 rows ** come back to this "
   ]
  },
  {
   "cell_type": "markdown",
   "metadata": {},
   "source": [
    "Ok from above we can determine we have 3936 rows of date with 8 colums"
   ]
  },
  {
   "cell_type": "markdown",
   "metadata": {},
   "source": [
    "#### df.head and df.tail\n",
    "Now lets further analyse and examine our imported data by using df.head and df.tail functions that are available in pandas.\n",
    "\n",
    "Firstly df.head() function returns the first 5 rows (default) -  both functions are useful for quickly testing if our dataset has the right type of data in it."
   ]
  },
  {
   "cell_type": "code",
   "execution_count": 4,
   "metadata": {},
   "outputs": [
    {
     "data": {
      "text/html": [
       "<div>\n",
       "<style scoped>\n",
       "    .dataframe tbody tr th:only-of-type {\n",
       "        vertical-align: middle;\n",
       "    }\n",
       "\n",
       "    .dataframe tbody tr th {\n",
       "        vertical-align: top;\n",
       "    }\n",
       "\n",
       "    .dataframe thead th {\n",
       "        text-align: right;\n",
       "    }\n",
       "</style>\n",
       "<table border=\"1\" class=\"dataframe\">\n",
       "  <thead>\n",
       "    <tr style=\"text-align: right;\">\n",
       "      <th></th>\n",
       "      <th>age</th>\n",
       "      <th>month_application</th>\n",
       "      <th>date_application</th>\n",
       "      <th>employment_status</th>\n",
       "      <th>gender</th>\n",
       "      <th>loan_purpose</th>\n",
       "      <th>loan_amount_range</th>\n",
       "      <th>loan_amount</th>\n",
       "    </tr>\n",
       "  </thead>\n",
       "  <tbody>\n",
       "    <tr>\n",
       "      <th>0</th>\n",
       "      <td>19</td>\n",
       "      <td>October</td>\n",
       "      <td>04/10/2019</td>\n",
       "      <td>FULL TIME</td>\n",
       "      <td>Male</td>\n",
       "      <td>Car</td>\n",
       "      <td>10,001 - 15,000</td>\n",
       "      <td>13000.0</td>\n",
       "    </tr>\n",
       "    <tr>\n",
       "      <th>1</th>\n",
       "      <td>19</td>\n",
       "      <td>August</td>\n",
       "      <td>28/08/2019</td>\n",
       "      <td>STUDENT</td>\n",
       "      <td>Male</td>\n",
       "      <td>Student</td>\n",
       "      <td>1,001 - 5,000</td>\n",
       "      <td>3000.0</td>\n",
       "    </tr>\n",
       "    <tr>\n",
       "      <th>2</th>\n",
       "      <td>19</td>\n",
       "      <td>March</td>\n",
       "      <td>28/03/2019</td>\n",
       "      <td>FULL TIME</td>\n",
       "      <td>Male</td>\n",
       "      <td>Personal</td>\n",
       "      <td>5,001 - 10,000</td>\n",
       "      <td>7000.0</td>\n",
       "    </tr>\n",
       "    <tr>\n",
       "      <th>3</th>\n",
       "      <td>19</td>\n",
       "      <td>September</td>\n",
       "      <td>28/09/2019</td>\n",
       "      <td>STUDENT</td>\n",
       "      <td>FEMALE</td>\n",
       "      <td>Student</td>\n",
       "      <td>0 - 1,000</td>\n",
       "      <td>1000.0</td>\n",
       "    </tr>\n",
       "    <tr>\n",
       "      <th>4</th>\n",
       "      <td>19</td>\n",
       "      <td>August</td>\n",
       "      <td>22/08/2019</td>\n",
       "      <td>STUDENT</td>\n",
       "      <td>Male</td>\n",
       "      <td>Student</td>\n",
       "      <td>5,001 - 10,000</td>\n",
       "      <td>10000.0</td>\n",
       "    </tr>\n",
       "  </tbody>\n",
       "</table>\n",
       "</div>"
      ],
      "text/plain": [
       "   age month_application date_application employment_status  gender  \\\n",
       "0   19           October       04/10/2019         FULL TIME    Male   \n",
       "1   19            August       28/08/2019           STUDENT    Male   \n",
       "2   19             March       28/03/2019         FULL TIME    Male   \n",
       "3   19         September       28/09/2019           STUDENT  FEMALE   \n",
       "4   19            August       22/08/2019           STUDENT    Male   \n",
       "\n",
       "  loan_purpose loan_amount_range  loan_amount  \n",
       "0          Car   10,001 - 15,000      13000.0  \n",
       "1      Student     1,001 - 5,000       3000.0  \n",
       "2     Personal    5,001 - 10,000       7000.0  \n",
       "3      Student         0 - 1,000       1000.0  \n",
       "4      Student    5,001 - 10,000      10000.0  "
      ]
     },
     "execution_count": 4,
     "metadata": {},
     "output_type": "execute_result"
    }
   ],
   "source": [
    "#pandas df.head fucntion default is to return 5 rows\n",
    "df.head()"
   ]
  },
  {
   "cell_type": "code",
   "execution_count": 5,
   "metadata": {
    "scrolled": true
   },
   "outputs": [
    {
     "data": {
      "text/html": [
       "<div>\n",
       "<style scoped>\n",
       "    .dataframe tbody tr th:only-of-type {\n",
       "        vertical-align: middle;\n",
       "    }\n",
       "\n",
       "    .dataframe tbody tr th {\n",
       "        vertical-align: top;\n",
       "    }\n",
       "\n",
       "    .dataframe thead th {\n",
       "        text-align: right;\n",
       "    }\n",
       "</style>\n",
       "<table border=\"1\" class=\"dataframe\">\n",
       "  <thead>\n",
       "    <tr style=\"text-align: right;\">\n",
       "      <th></th>\n",
       "      <th>age</th>\n",
       "      <th>month_application</th>\n",
       "      <th>date_application</th>\n",
       "      <th>employment_status</th>\n",
       "      <th>gender</th>\n",
       "      <th>loan_purpose</th>\n",
       "      <th>loan_amount_range</th>\n",
       "      <th>loan_amount</th>\n",
       "    </tr>\n",
       "  </thead>\n",
       "  <tbody>\n",
       "    <tr>\n",
       "      <th>3931</th>\n",
       "      <td>85</td>\n",
       "      <td>June</td>\n",
       "      <td>07/06/2019</td>\n",
       "      <td>RETIRED</td>\n",
       "      <td>FEMALE</td>\n",
       "      <td>Personal</td>\n",
       "      <td>0 - 1,000</td>\n",
       "      <td>600.0</td>\n",
       "    </tr>\n",
       "    <tr>\n",
       "      <th>3932</th>\n",
       "      <td>85</td>\n",
       "      <td>February</td>\n",
       "      <td>25/02/2019</td>\n",
       "      <td>RETIRED</td>\n",
       "      <td>FEMALE</td>\n",
       "      <td>Personal</td>\n",
       "      <td>0 - 1,000</td>\n",
       "      <td>1000.0</td>\n",
       "    </tr>\n",
       "    <tr>\n",
       "      <th>3933</th>\n",
       "      <td>85</td>\n",
       "      <td>December</td>\n",
       "      <td>02/12/2019</td>\n",
       "      <td>RETIRED</td>\n",
       "      <td>FEMALE</td>\n",
       "      <td>Personal</td>\n",
       "      <td>1,001 - 5,000</td>\n",
       "      <td>2000.0</td>\n",
       "    </tr>\n",
       "    <tr>\n",
       "      <th>3934</th>\n",
       "      <td>87</td>\n",
       "      <td>March</td>\n",
       "      <td>01/03/2019</td>\n",
       "      <td>RETIRED</td>\n",
       "      <td>FEMALE</td>\n",
       "      <td>Personal</td>\n",
       "      <td>1,001 - 5,000</td>\n",
       "      <td>2000.0</td>\n",
       "    </tr>\n",
       "    <tr>\n",
       "      <th>3935</th>\n",
       "      <td>89</td>\n",
       "      <td>March</td>\n",
       "      <td>28/03/2019</td>\n",
       "      <td>RETIRED</td>\n",
       "      <td>FEMALE</td>\n",
       "      <td>Personal</td>\n",
       "      <td>1,001 - 5,000</td>\n",
       "      <td>3000.0</td>\n",
       "    </tr>\n",
       "  </tbody>\n",
       "</table>\n",
       "</div>"
      ],
      "text/plain": [
       "      age month_application date_application employment_status  gender  \\\n",
       "3931   85              June       07/06/2019           RETIRED  FEMALE   \n",
       "3932   85          February       25/02/2019           RETIRED  FEMALE   \n",
       "3933   85          December       02/12/2019           RETIRED  FEMALE   \n",
       "3934   87             March       01/03/2019           RETIRED  FEMALE   \n",
       "3935   89             March       28/03/2019           RETIRED  FEMALE   \n",
       "\n",
       "     loan_purpose loan_amount_range  loan_amount  \n",
       "3931     Personal         0 - 1,000        600.0  \n",
       "3932     Personal         0 - 1,000       1000.0  \n",
       "3933     Personal     1,001 - 5,000       2000.0  \n",
       "3934     Personal     1,001 - 5,000       2000.0  \n",
       "3935     Personal     1,001 - 5,000       3000.0  "
      ]
     },
     "execution_count": 5,
     "metadata": {},
     "output_type": "execute_result"
    }
   ],
   "source": [
    "#pands df.tail function by default reuturns last 5 rows \n",
    "df.tail()"
   ]
  },
  {
   "cell_type": "markdown",
   "metadata": {},
   "source": [
    "Everything looks ok above we can see the shape of our dataframe is correct"
   ]
  },
  {
   "cell_type": "markdown",
   "metadata": {},
   "source": [
    "Lets have a look at the typoe of varibables we have to work with using the df.dtypes function "
   ]
  },
  {
   "cell_type": "code",
   "execution_count": 6,
   "metadata": {},
   "outputs": [
    {
     "data": {
      "text/plain": [
       "age                    int64\n",
       "month_application     object\n",
       "date_application      object\n",
       "employment_status     object\n",
       "gender                object\n",
       "loan_purpose          object\n",
       "loan_amount_range     object\n",
       "loan_amount          float64\n",
       "dtype: object"
      ]
     },
     "execution_count": 6,
     "metadata": {},
     "output_type": "execute_result"
    }
   ],
   "source": [
    "#using pandas df.types to looking at the data types \n",
    "df.dtypes"
   ]
  },
  {
   "cell_type": "markdown",
   "metadata": {},
   "source": [
    "Ok as we can see from above we are dealing with 3 different data types - \n",
    "- int64 for age\n",
    "- object for the variables month_application,date_application, employment_status,gender,loan_purpose, loan_amount_range\n",
    "- float64 for the loan_amount"
   ]
  },
  {
   "cell_type": "markdown",
   "metadata": {},
   "source": [
    "Looking at the above results we can assertain that we need to covert the date of application to a date_time type rather than an object which it currently is"
   ]
  },
  {
   "cell_type": "code",
   "execution_count": 45,
   "metadata": {},
   "outputs": [
    {
     "data": {
      "text/plain": [
       "0      2019-04-10\n",
       "1      2019-08-28\n",
       "2      2019-03-28\n",
       "3      2019-09-28\n",
       "4      2019-08-22\n",
       "          ...    \n",
       "3931   2019-07-06\n",
       "3932   2019-02-25\n",
       "3933   2019-02-12\n",
       "3934   2019-01-03\n",
       "3935   2019-03-28\n",
       "Name: date_application, Length: 3936, dtype: datetime64[ns]"
      ]
     },
     "execution_count": 45,
     "metadata": {},
     "output_type": "execute_result"
    }
   ],
   "source": [
    "#look at making the Financial month a date time # help from https://https://pbpython.com/pandas_dtypes.html\n",
    "#https://stackoverflow.com/questions/16852911/how-do-i-convert-dates-in-a-pandas-data-frame-to-a-date-data-type\n",
    "pd.to_datetime(df['date_application'])"
   ]
  },
  {
   "cell_type": "code",
   "execution_count": 63,
   "metadata": {},
   "outputs": [
    {
     "data": {
      "text/html": [
       "<div>\n",
       "<style scoped>\n",
       "    .dataframe tbody tr th:only-of-type {\n",
       "        vertical-align: middle;\n",
       "    }\n",
       "\n",
       "    .dataframe tbody tr th {\n",
       "        vertical-align: top;\n",
       "    }\n",
       "\n",
       "    .dataframe thead th {\n",
       "        text-align: right;\n",
       "    }\n",
       "</style>\n",
       "<table border=\"1\" class=\"dataframe\">\n",
       "  <thead>\n",
       "    <tr style=\"text-align: right;\">\n",
       "      <th></th>\n",
       "      <th>age</th>\n",
       "      <th>loan_amount</th>\n",
       "    </tr>\n",
       "  </thead>\n",
       "  <tbody>\n",
       "    <tr>\n",
       "      <th>count</th>\n",
       "      <td>3936.0</td>\n",
       "      <td>3936.0</td>\n",
       "    </tr>\n",
       "    <tr>\n",
       "      <th>mean</th>\n",
       "      <td>45.0</td>\n",
       "      <td>4756.0</td>\n",
       "    </tr>\n",
       "    <tr>\n",
       "      <th>std</th>\n",
       "      <td>16.0</td>\n",
       "      <td>8384.0</td>\n",
       "    </tr>\n",
       "    <tr>\n",
       "      <th>min</th>\n",
       "      <td>19.0</td>\n",
       "      <td>0.0</td>\n",
       "    </tr>\n",
       "    <tr>\n",
       "      <th>25%</th>\n",
       "      <td>32.0</td>\n",
       "      <td>700.0</td>\n",
       "    </tr>\n",
       "    <tr>\n",
       "      <th>50%</th>\n",
       "      <td>44.0</td>\n",
       "      <td>2000.0</td>\n",
       "    </tr>\n",
       "    <tr>\n",
       "      <th>75%</th>\n",
       "      <td>57.0</td>\n",
       "      <td>5000.0</td>\n",
       "    </tr>\n",
       "    <tr>\n",
       "      <th>max</th>\n",
       "      <td>89.0</td>\n",
       "      <td>102500.0</td>\n",
       "    </tr>\n",
       "  </tbody>\n",
       "</table>\n",
       "</div>"
      ],
      "text/plain": [
       "          age  loan_amount\n",
       "count  3936.0       3936.0\n",
       "mean     45.0       4756.0\n",
       "std      16.0       8384.0\n",
       "min      19.0          0.0\n",
       "25%      32.0        700.0\n",
       "50%      44.0       2000.0\n",
       "75%      57.0       5000.0\n",
       "max      89.0     102500.0"
      ]
     },
     "execution_count": 63,
     "metadata": {},
     "output_type": "execute_result"
    }
   ],
   "source": [
    "df.describe().round(decimals = 0)"
   ]
  },
  {
   "cell_type": "markdown",
   "metadata": {},
   "source": [
    "Ok as Age and Loan Amount are our only colums of type integer/floating points they are the only ones which will be returned for statistical values as shown above.\n",
    "\n",
    "So using the pandas df.desribe function we get some insteresting statistics for the age and the loan amounts,\n",
    "The average age of our borower is 45 years old, this corresponds with out reasearch above which showed the average age of a borrower as approx 40 years to 45 years. We can determine the average loan amount is approx €4,756. \n",
    "We will cross check these stats further on in our sythentic data set to make sure they align and to ensure our sythentic dataset is a valid represenation.\n"
   ]
  },
  {
   "cell_type": "markdown",
   "metadata": {},
   "source": [
    "#### df.info()\n",
    "Lets have a look at df.info which is another useful tool to give us more info on our dataframe"
   ]
  },
  {
   "cell_type": "code",
   "execution_count": 76,
   "metadata": {},
   "outputs": [
    {
     "name": "stdout",
     "output_type": "stream",
     "text": [
      "<class 'pandas.core.frame.DataFrame'>\n",
      "RangeIndex: 3936 entries, 0 to 3935\n",
      "Data columns (total 8 columns):\n",
      " #   Column             Non-Null Count  Dtype   \n",
      "---  ------             --------------  -----   \n",
      " 0   age                3936 non-null   int32   \n",
      " 1   month_application  3936 non-null   category\n",
      " 2   date_application   3936 non-null   object  \n",
      " 3   employment_status  3936 non-null   category\n",
      " 4   gender             3936 non-null   category\n",
      " 5   loan_purpose       3936 non-null   category\n",
      " 6   loan_amount_range  3936 non-null   object  \n",
      " 7   loan_amount        3936 non-null   float64 \n",
      "dtypes: category(4), float64(1), int32(1), object(2)\n",
      "memory usage: 124.2+ KB\n"
     ]
    }
   ],
   "source": [
    "#using pandas built in function df.info to us more info including each data type in use\n",
    "df.info()"
   ]
  },
  {
   "cell_type": "markdown",
   "metadata": {},
   "source": [
    "### Best practice convert some of our data types into categories\n",
    "\n",
    "https://pandas.pydata.org/pandas-docs/stable/user_guide/categorical.html\n",
    "\n",
    "The Pandas documentation has a consise section on when to use the categorical data type and they recommend it should be use the following data type:\n",
    "\n",
    "\n",
    "\n",
    "- A string variable consisting of only a few different values. Converting such a string variable to a categorical variable will save some memory, see here.\n",
    "\n",
    "- The lexical order of a variable is not the same as the logical order (“one”, “two”, “three”). By converting to a categorical and specifying an order on the categories, sorting and min/max will use the logical order instead of the lexical order, see here.\n",
    "\n",
    "- As a signal to other Python libraries that this column should be treated as a categorical variable (e.g. to use suitable statistical methods or plot types)."
   ]
  },
  {
   "cell_type": "code",
   "execution_count": 77,
   "metadata": {},
   "outputs": [],
   "source": [
    "#convert required varibales to cateogories\n",
    "df[[\"month_application\",\"gender\", \"employment_status\",\"loan_purpose\"]] = df[[\"month_application\",\"gender\", \"employment_status\",\"loan_purpose\"]].astype(\"category\")"
   ]
  },
  {
   "cell_type": "code",
   "execution_count": 74,
   "metadata": {},
   "outputs": [
    {
     "name": "stdout",
     "output_type": "stream",
     "text": [
      "<class 'pandas.core.frame.DataFrame'>\n",
      "RangeIndex: 3936 entries, 0 to 3935\n",
      "Data columns (total 8 columns):\n",
      " #   Column             Non-Null Count  Dtype   \n",
      "---  ------             --------------  -----   \n",
      " 0   age                3936 non-null   int32   \n",
      " 1   month_application  3936 non-null   category\n",
      " 2   date_application   3936 non-null   object  \n",
      " 3   employment_status  3936 non-null   category\n",
      " 4   gender             3936 non-null   category\n",
      " 5   loan_purpose       3936 non-null   category\n",
      " 6   loan_amount_range  3936 non-null   object  \n",
      " 7   loan_amount        3936 non-null   float64 \n",
      "dtypes: category(4), float64(1), int32(1), object(2)\n",
      "memory usage: 124.2+ KB\n"
     ]
    }
   ],
   "source": [
    "df.info();"
   ]
  },
  {
   "cell_type": "markdown",
   "metadata": {},
   "source": [
    "## Reviewing the data to figure out the types of distributions"
   ]
  },
  {
   "cell_type": "code",
   "execution_count": 65,
   "metadata": {},
   "outputs": [
    {
     "data": {
      "image/png": "[encoded data removed]",
      "text/plain": [
       "<Figure size 443.1x360 with 6 Axes>"
      ]
     },
     "metadata": {},
     "output_type": "display_data"
    }
   ],
   "source": [
    "sns.pairplot(df,hue =\"loan_purpose\");"
   ]
  },
  {
   "cell_type": "markdown",
   "metadata": {},
   "source": [
    "Count plot\n",
    "This is essentially the same as barplot except the estimator is explicitly counting the number of occurrences. Which is why we only pass the x value. Command for creating countplot is:"
   ]
  },
  {
   "cell_type": "code",
   "execution_count": 66,
   "metadata": {},
   "outputs": [
    {
     "data": {
      "image/png": "[encoded data removed]",
      "text/plain": [
       "<Figure size 432x288 with 1 Axes>"
      ]
     },
     "metadata": {},
     "output_type": "display_data"
    }
   ],
   "source": [
    "#df.Age.plot(kind='kde');\n",
    "#df.groupby('Gender').Age.plot(kind='kde')\n",
    "#df.Age.plot(kind='kde')\n",
    "age = df[\"age\"]\n",
    "sns.distplot(age);"
   ]
  },
  {
   "cell_type": "markdown",
   "metadata": {},
   "source": [
    "Visualising some relationships"
   ]
  },
  {
   "cell_type": "markdown",
   "metadata": {},
   "source": [
    "Seaborn library has a great heat map visual tool that can be used to map the correlations between categories. The higher the number is the greater the correlation between the two elements. A high positive corrleation indicates that the two elements have a positive linear relationship (as one increases the other also increase), and a low negative correlation indicates a negative linear relationship( as one increases the other decreases)\n",
    "\n",
    "link reference to medium here"
   ]
  },
  {
   "cell_type": "code",
   "execution_count": 67,
   "metadata": {},
   "outputs": [
    {
     "data": {
      "image/png": "[encoded data removed]",
      "text/plain": [
       "<Figure size 432x288 with 2 Axes>"
      ]
     },
     "metadata": {},
     "output_type": "display_data"
    }
   ],
   "source": [
    "sns.heatmap(df.corr(),annot= True); #insert link here from medium that i used fro below"
   ]
  },
  {
   "cell_type": "code",
   "execution_count": 68,
   "metadata": {},
   "outputs": [
    {
     "data": {
      "text/plain": [
       "count    3936.000000\n",
       "mean       45.241362\n",
       "std        15.595089\n",
       "min        19.000000\n",
       "25%        32.000000\n",
       "50%        44.000000\n",
       "75%        57.000000\n",
       "max        89.000000\n",
       "Name: age, dtype: float64"
      ]
     },
     "execution_count": 68,
     "metadata": {},
     "output_type": "execute_result"
    }
   ],
   "source": [
    "df.age.describe()"
   ]
  },
  {
   "cell_type": "code",
   "execution_count": 69,
   "metadata": {},
   "outputs": [
    {
     "data": {
      "image/png": "[encoded data removed]",
      "text/plain": [
       "<Figure size 432x288 with 1 Axes>"
      ]
     },
     "metadata": {},
     "output_type": "display_data"
    }
   ],
   "source": [
    "#df.Age.plot(kind='kde');\n",
    "#df.groupby('Gender').Age.plot(kind='kde')\n",
    "#df.Age.plot(kind='kde')\n",
    "#Loan Amount = df[\"Loan Amount\"]\n",
    "sns.distplot(df[\"loan_amount\"]);"
   ]
  },
  {
   "cell_type": "code",
   "execution_count": 70,
   "metadata": {},
   "outputs": [
    {
     "data": {
      "text/plain": [
       "<seaborn.axisgrid.FacetGrid at 0x18f66aaf910>"
      ]
     },
     "execution_count": 70,
     "metadata": {},
     "output_type": "execute_result"
    },
    {
     "data": {
      "image/png": "[encoded data removed]",
      "text/plain": [
       "<Figure size 360x360 with 1 Axes>"
      ]
     },
     "metadata": {},
     "output_type": "display_data"
    }
   ],
   "source": [
    "sns.catplot(x=\"loan_purpose\", kind=\"count\", palette=\"ch:.25\", data=df)\n",
    "#https://seaborn.pydata.org/tutorial/categorical.html"
   ]
  },
  {
   "cell_type": "code",
   "execution_count": 71,
   "metadata": {},
   "outputs": [
    {
     "data": {
      "image/png": "[encoded data removed]",
      "text/plain": [
       "<Figure size 360x360 with 1 Axes>"
      ]
     },
     "metadata": {},
     "output_type": "display_data"
    }
   ],
   "source": [
    "sns.catplot(x=\"employment_status\", kind=\"count\", palette=\"ch:.25\", data=df);\n",
    "#https://seaborn.pydata.org/tutorial/categorical.html"
   ]
  },
  {
   "cell_type": "code",
   "execution_count": 19,
   "metadata": {},
   "outputs": [
    {
     "data": {
      "text/plain": [
       "<matplotlib.axes._subplots.AxesSubplot at 0x18f654d9490>"
      ]
     },
     "execution_count": 19,
     "metadata": {},
     "output_type": "execute_result"
    },
    {
     "data": {
      "image/png": "[encoded data removed]",
      "text/plain": [
       "<Figure size 432x288 with 1 Axes>"
      ]
     },
     "metadata": {
      "needs_background": "light"
     },
     "output_type": "display_data"
    }
   ],
   "source": [
    "sns.countplot(x='gender',data=df)\n",
    "#https://datascienceplus.com/seaborn-categorical-plots-in-python/"
   ]
  },
  {
   "cell_type": "code",
   "execution_count": 72,
   "metadata": {},
   "outputs": [
    {
     "data": {
      "text/html": [
       "<div>\n",
       "<style scoped>\n",
       "    .dataframe tbody tr th:only-of-type {\n",
       "        vertical-align: middle;\n",
       "    }\n",
       "\n",
       "    .dataframe tbody tr th {\n",
       "        vertical-align: top;\n",
       "    }\n",
       "\n",
       "    .dataframe thead th {\n",
       "        text-align: right;\n",
       "    }\n",
       "</style>\n",
       "<table border=\"1\" class=\"dataframe\">\n",
       "  <thead>\n",
       "    <tr style=\"text-align: right;\">\n",
       "      <th></th>\n",
       "      <th>age</th>\n",
       "    </tr>\n",
       "    <tr>\n",
       "      <th>gender</th>\n",
       "      <th></th>\n",
       "    </tr>\n",
       "  </thead>\n",
       "  <tbody>\n",
       "    <tr>\n",
       "      <th>FEMALE</th>\n",
       "      <td>2072</td>\n",
       "    </tr>\n",
       "    <tr>\n",
       "      <th>Male</th>\n",
       "      <td>1864</td>\n",
       "    </tr>\n",
       "  </tbody>\n",
       "</table>\n",
       "</div>"
      ],
      "text/plain": [
       "         age\n",
       "gender      \n",
       "FEMALE  2072\n",
       "Male    1864"
      ]
     },
     "execution_count": 72,
     "metadata": {},
     "output_type": "execute_result"
    }
   ],
   "source": [
    "df[[\"gender\",\"age\"]].groupby(\"gender\").count()\n",
    "#https://pandas.pydata.org/pandas-docs/dev/getting_started/intro_tutorials/06_calculate_statistics.html"
   ]
  },
  {
   "cell_type": "code",
   "execution_count": 21,
   "metadata": {},
   "outputs": [
    {
     "data": {
      "image/png": "[encoded data removed]",
      "text/plain": [
       "<Figure size 432x288 with 1 Axes>"
      ]
     },
     "metadata": {
      "needs_background": "light"
     },
     "output_type": "display_data"
    }
   ],
   "source": [
    "sns.boxplot(x='gender',y=\"age\",data=df);"
   ]
  },
  {
   "cell_type": "code",
   "execution_count": 22,
   "metadata": {},
   "outputs": [
    {
     "data": {
      "image/png": "[encoded data removed]",
      "text/plain": [
       "<Figure size 432x288 with 1 Axes>"
      ]
     },
     "metadata": {
      "needs_background": "light"
     },
     "output_type": "display_data"
    }
   ],
   "source": [
    "sns.boxplot(x='loan_purpose',y=\"age\",data=df);"
   ]
  },
  {
   "cell_type": "code",
   "execution_count": 23,
   "metadata": {},
   "outputs": [
    {
     "data": {
      "image/png": "[encoded data removed]",
      "text/plain": [
       "<Figure size 435.25x360 with 1 Axes>"
      ]
     },
     "metadata": {
      "needs_background": "light"
     },
     "output_type": "display_data"
    }
   ],
   "source": [
    "sns.catplot(x=\"loan_purpose\", y=\"age\", hue=\"gender\", kind=\"box\", data=df);\n",
    "#https://seaborn.pydata.org/tutorial/categorical.html"
   ]
  },
  {
   "cell_type": "code",
   "execution_count": 24,
   "metadata": {},
   "outputs": [
    {
     "data": {
      "image/png": "[encoded data removed]",
      "text/plain": [
       "<Figure size 438.5x360 with 1 Axes>"
      ]
     },
     "metadata": {
      "needs_background": "light"
     },
     "output_type": "display_data"
    }
   ],
   "source": [
    "sns.catplot(x=\"gender\", y=\"age\", hue=\"loan_purpose\", kind=\"bar\", data=df);"
   ]
  },
  {
   "cell_type": "code",
   "execution_count": 25,
   "metadata": {},
   "outputs": [
    {
     "data": {
      "image/png": "[encoded data removed]",
      "text/plain": [
       "<Figure size 432x288 with 1 Axes>"
      ]
     },
     "metadata": {},
     "output_type": "display_data"
    }
   ],
   "source": [
    "%matplotlib inline\n",
    "sns.set(style=\"darkgrid\")\n",
    "ax = sns.countplot(x='loan_purpose',hue=\"gender\" , data=df)\n",
    "plt.show()"
   ]
  },
  {
   "cell_type": "code",
   "execution_count": 26,
   "metadata": {},
   "outputs": [],
   "source": [
    "#https://towardsdatascience.com/hands-on-python-data-visualization-seaborn-count-plot-90e823599012"
   ]
  },
  {
   "cell_type": "markdown",
   "metadata": {},
   "source": [
    "## Create the sample random data\n",
    "\n"
   ]
  },
  {
   "cell_type": "markdown",
   "metadata": {},
   "source": [
    "## AGE SAMPLE DATA"
   ]
  },
  {
   "cell_type": "markdown",
   "metadata": {},
   "source": [
    "Start with the creation of the sample data as per the AGE - as we say above the distribtion of the Age varibale is closest aligned to that of a Normal Distribution"
   ]
  },
  {
   "cell_type": "markdown",
   "metadata": {},
   "source": [
    "I am going to use the pands df.describe fuction to get the mean and standard deviation of the data in teh Age column - we will use thes as part\n",
    "of our Numpy random.normal fucntion to get some random data"
   ]
  },
  {
   "cell_type": "code",
   "execution_count": 27,
   "metadata": {},
   "outputs": [
    {
     "data": {
      "text/plain": [
       "count    3936.000000\n",
       "mean       45.241362\n",
       "std        15.595089\n",
       "min        19.000000\n",
       "25%        32.000000\n",
       "50%        44.000000\n",
       "75%        57.000000\n",
       "max        89.000000\n",
       "Name: age, dtype: float64"
      ]
     },
     "execution_count": 27,
     "metadata": {},
     "output_type": "execute_result"
    }
   ],
   "source": [
    "df.age.describe()"
   ]
  },
  {
   "cell_type": "markdown",
   "metadata": {},
   "source": [
    "Testing to see can i create some variables - neeed to set proabilty - how will i do this accross the varibales ? Maybe need a loop or functions?"
   ]
  },
  {
   "cell_type": "code",
   "execution_count": 28,
   "metadata": {},
   "outputs": [],
   "source": [
    "n_samples = 4000\n",
    "mean_age, deviation_age = 45.241362, 15.595089"
   ]
  },
  {
   "cell_type": "code",
   "execution_count": 29,
   "metadata": {},
   "outputs": [],
   "source": [
    "Random_Age = np.random.randint(19, 89, n_samples)\n",
    "#Random_Age = np.random.normal(45.241362,15.595089,n_samples).astype(int)"
   ]
  },
  {
   "cell_type": "code",
   "execution_count": 30,
   "metadata": {},
   "outputs": [
    {
     "data": {
      "image/png": "[encoded data removed]",
      "text/plain": [
       "<Figure size 432x288 with 1 Axes>"
      ]
     },
     "metadata": {},
     "output_type": "display_data"
    }
   ],
   "source": [
    "sns.distplot(Random_Age);"
   ]
  },
  {
   "cell_type": "code",
   "execution_count": 31,
   "metadata": {},
   "outputs": [],
   "source": [
    "#sns.distplot(Age);\n",
    "#df.groupby(\"Age\").Loan.count()\n",
    "#df.count([\"Loan Purpose\"])\n",
    "#test = df['Loan Purpose'].count\n",
    "#test"
   ]
  },
  {
   "cell_type": "markdown",
   "metadata": {},
   "source": [
    "## LOAN TYPES SAMPLE DATA"
   ]
  },
  {
   "cell_type": "code",
   "execution_count": 32,
   "metadata": {},
   "outputs": [
    {
     "data": {
      "text/plain": [
       "['Car', 'Student', 'Personal', 'Home', 'Agri']"
      ]
     },
     "execution_count": 32,
     "metadata": {},
     "output_type": "execute_result"
    }
   ],
   "source": [
    "sample_loan_types = df['loan_purpose'].unique().tolist()\n",
    "#https://cmdlinetips.com/2018/01/how-to-get-unique-values-from-a-column-in-pandas-data-frame/\n",
    "sample_loan_types"
   ]
  },
  {
   "cell_type": "code",
   "execution_count": 33,
   "metadata": {},
   "outputs": [
    {
     "data": {
      "text/plain": [
       "{'Personal': 0.501270325203252,\n",
       " 'Home': 0.2654979674796748,\n",
       " 'Car': 0.17682926829268292,\n",
       " 'Student': 0.04496951219512195,\n",
       " 'Agri': 0.011432926829268292}"
      ]
     },
     "execution_count": 33,
     "metadata": {},
     "output_type": "execute_result"
    }
   ],
   "source": [
    "#https://pandas.pydata.org/pandas-docs/stable/reference/api/pandas.Series.value_counts.html\n",
    "#https://stackoverflow.com/questions/29403192/convert-series-returned-by-pandas-series-value-counts-to-a-dictionary\n",
    "sample_loan_types_prob =dict(df['loan_purpose'].value_counts(True))\n",
    "sample_loan_types_prob"
   ]
  },
  {
   "cell_type": "code",
   "execution_count": 34,
   "metadata": {},
   "outputs": [
    {
     "data": {
      "text/plain": [
       "{'Personal': 0.49925,\n",
       " 'Home': 0.26075,\n",
       " 'Car': 0.18425,\n",
       " 'Student': 0.04275,\n",
       " 'Agri': 0.013}"
      ]
     },
     "execution_count": 34,
     "metadata": {},
     "output_type": "execute_result"
    }
   ],
   "source": [
    "Random_Loan = np.random.choice(sample_loan_types, size=n_samples,p=[0.176829,0.044970,0.501270,0.265498,0.011433])\n",
    "#0.176829,0.044970,0.501270,0.265498,0.011433\n",
    "dftest = pd.DataFrame({'Random_Loan':Random_Loan})\n",
    "probabilty_test =dict(dftest['Random_Loan'].value_counts(True))\n",
    "probabilty_test"
   ]
  },
  {
   "cell_type": "markdown",
   "metadata": {},
   "source": [
    "## GENDER SAMPLE DATA"
   ]
  },
  {
   "cell_type": "code",
   "execution_count": 35,
   "metadata": {},
   "outputs": [],
   "source": [
    "Gender = (\"Male\", \"Female\")\n",
    "Random_Gender = np.random.choice(Gender,size = n_samples,p = [.45,.55])\n",
    "\n",
    "#Random_Gender.describe\n",
    "#Random_Gender"
   ]
  },
  {
   "cell_type": "markdown",
   "metadata": {},
   "source": [
    "## Sample Loan amounts"
   ]
  },
  {
   "cell_type": "code",
   "execution_count": 36,
   "metadata": {},
   "outputs": [
    {
     "data": {
      "text/plain": [
       "count      3936.0\n",
       "mean       4756.0\n",
       "std        8384.0\n",
       "min           0.0\n",
       "25%         700.0\n",
       "50%        2000.0\n",
       "75%        5000.0\n",
       "max      102500.0\n",
       "Name: loan_amount, dtype: float64"
      ]
     },
     "execution_count": 36,
     "metadata": {},
     "output_type": "execute_result"
    }
   ],
   "source": [
    "df[\"loan_amount\"].describe().round()"
   ]
  },
  {
   "cell_type": "code",
   "execution_count": 37,
   "metadata": {},
   "outputs": [],
   "source": [
    "sample_loan_amounts_prob =dict(df['loan_amount'].value_counts(True))\n",
    "#sample_loan_amounts_prob"
   ]
  },
  {
   "cell_type": "code",
   "execution_count": 38,
   "metadata": {},
   "outputs": [],
   "source": [
    "#there must be a random choices in Numpy not just from standard libruary?\n",
    "#https://stackoverflow.com/questions/4859292/how-to-get-a-random-value-from-dictionary-in-python\n",
    "#https://stackoverflow.com/questions/40927221/how-to-choose-keys-from-a-python-dictionary-based-on-weighted-probability\n",
    "import random\n",
    "Random_Loan_Amount = random.choices(list(sample_loan_amounts_prob.keys()), weights=sample_loan_amounts_prob.values(), k=n_samples)\n",
    "#random_loan_amounts"
   ]
  },
  {
   "cell_type": "code",
   "execution_count": 39,
   "metadata": {},
   "outputs": [],
   "source": [
    "#create some random varibales just for testing at the minute\n",
    "#researched https://www.delftstack.com/howto/python-pandas/how-to-randomly-shuffle-dataframe-rows-in-pandas/\n",
    "#Loan_Types = (\"Personal\", \"Car\", \"Agri\", \"Student\",\"Home\" )\n",
    "\n",
    "\n",
    "#Create a test data frame based on above to see does it work\n",
    "sample_df = pd.DataFrame({'Sample_Age':Random_Age ,\n",
    "                   'Sample_Loan_Type':Random_Loan ,\n",
    "                   'Sample_Gender': Random_Gender ,\n",
    "                          'Sample_Loan_Amount':Random_Loan_Amount\n",
    "                  })"
   ]
  },
  {
   "cell_type": "code",
   "execution_count": 40,
   "metadata": {},
   "outputs": [
    {
     "data": {
      "text/html": [
       "<div>\n",
       "<style scoped>\n",
       "    .dataframe tbody tr th:only-of-type {\n",
       "        vertical-align: middle;\n",
       "    }\n",
       "\n",
       "    .dataframe tbody tr th {\n",
       "        vertical-align: top;\n",
       "    }\n",
       "\n",
       "    .dataframe thead th {\n",
       "        text-align: right;\n",
       "    }\n",
       "</style>\n",
       "<table border=\"1\" class=\"dataframe\">\n",
       "  <thead>\n",
       "    <tr style=\"text-align: right;\">\n",
       "      <th></th>\n",
       "      <th>Sample_Age</th>\n",
       "      <th>Sample_Loan_Type</th>\n",
       "      <th>Sample_Gender</th>\n",
       "      <th>Sample_Loan_Amount</th>\n",
       "    </tr>\n",
       "  </thead>\n",
       "  <tbody>\n",
       "    <tr>\n",
       "      <th>0</th>\n",
       "      <td>77</td>\n",
       "      <td>Home</td>\n",
       "      <td>Male</td>\n",
       "      <td>700.0</td>\n",
       "    </tr>\n",
       "    <tr>\n",
       "      <th>1</th>\n",
       "      <td>61</td>\n",
       "      <td>Personal</td>\n",
       "      <td>Male</td>\n",
       "      <td>500.0</td>\n",
       "    </tr>\n",
       "    <tr>\n",
       "      <th>2</th>\n",
       "      <td>56</td>\n",
       "      <td>Home</td>\n",
       "      <td>Female</td>\n",
       "      <td>20000.0</td>\n",
       "    </tr>\n",
       "    <tr>\n",
       "      <th>3</th>\n",
       "      <td>33</td>\n",
       "      <td>Car</td>\n",
       "      <td>Male</td>\n",
       "      <td>250.0</td>\n",
       "    </tr>\n",
       "    <tr>\n",
       "      <th>4</th>\n",
       "      <td>68</td>\n",
       "      <td>Personal</td>\n",
       "      <td>Female</td>\n",
       "      <td>800.0</td>\n",
       "    </tr>\n",
       "    <tr>\n",
       "      <th>...</th>\n",
       "      <td>...</td>\n",
       "      <td>...</td>\n",
       "      <td>...</td>\n",
       "      <td>...</td>\n",
       "    </tr>\n",
       "    <tr>\n",
       "      <th>3995</th>\n",
       "      <td>21</td>\n",
       "      <td>Home</td>\n",
       "      <td>Male</td>\n",
       "      <td>7000.0</td>\n",
       "    </tr>\n",
       "    <tr>\n",
       "      <th>3996</th>\n",
       "      <td>44</td>\n",
       "      <td>Personal</td>\n",
       "      <td>Male</td>\n",
       "      <td>900.0</td>\n",
       "    </tr>\n",
       "    <tr>\n",
       "      <th>3997</th>\n",
       "      <td>77</td>\n",
       "      <td>Personal</td>\n",
       "      <td>Male</td>\n",
       "      <td>6000.0</td>\n",
       "    </tr>\n",
       "    <tr>\n",
       "      <th>3998</th>\n",
       "      <td>80</td>\n",
       "      <td>Personal</td>\n",
       "      <td>Female</td>\n",
       "      <td>7500.0</td>\n",
       "    </tr>\n",
       "    <tr>\n",
       "      <th>3999</th>\n",
       "      <td>47</td>\n",
       "      <td>Personal</td>\n",
       "      <td>Male</td>\n",
       "      <td>350.0</td>\n",
       "    </tr>\n",
       "  </tbody>\n",
       "</table>\n",
       "<p>4000 rows × 4 columns</p>\n",
       "</div>"
      ],
      "text/plain": [
       "      Sample_Age Sample_Loan_Type Sample_Gender  Sample_Loan_Amount\n",
       "0             77             Home          Male               700.0\n",
       "1             61         Personal          Male               500.0\n",
       "2             56             Home        Female             20000.0\n",
       "3             33              Car          Male               250.0\n",
       "4             68         Personal        Female               800.0\n",
       "...          ...              ...           ...                 ...\n",
       "3995          21             Home          Male              7000.0\n",
       "3996          44         Personal          Male               900.0\n",
       "3997          77         Personal          Male              6000.0\n",
       "3998          80         Personal        Female              7500.0\n",
       "3999          47         Personal          Male               350.0\n",
       "\n",
       "[4000 rows x 4 columns]"
      ]
     },
     "execution_count": 40,
     "metadata": {},
     "output_type": "execute_result"
    }
   ],
   "source": [
    "sample_df\n",
    "#np.random.permutation(sample_df)"
   ]
  },
  {
   "cell_type": "code",
   "execution_count": 41,
   "metadata": {},
   "outputs": [
    {
     "data": {
      "image/png": "[encoded data removed]",
      "text/plain": [
       "<Figure size 475.175x360 with 6 Axes>"
      ]
     },
     "metadata": {},
     "output_type": "display_data"
    }
   ],
   "source": [
    "sns.pairplot(sample_df,hue =\"Sample_Loan_Type\");\n",
    "#Sample_Loan_Type"
   ]
  },
  {
   "cell_type": "code",
   "execution_count": 42,
   "metadata": {},
   "outputs": [
    {
     "data": {
      "text/html": [
       "<div>\n",
       "<style scoped>\n",
       "    .dataframe tbody tr th:only-of-type {\n",
       "        vertical-align: middle;\n",
       "    }\n",
       "\n",
       "    .dataframe tbody tr th {\n",
       "        vertical-align: top;\n",
       "    }\n",
       "\n",
       "    .dataframe thead th {\n",
       "        text-align: right;\n",
       "    }\n",
       "</style>\n",
       "<table border=\"1\" class=\"dataframe\">\n",
       "  <thead>\n",
       "    <tr style=\"text-align: right;\">\n",
       "      <th></th>\n",
       "      <th>Sample_Age</th>\n",
       "      <th>Sample_Loan_Amount</th>\n",
       "    </tr>\n",
       "  </thead>\n",
       "  <tbody>\n",
       "    <tr>\n",
       "      <th>count</th>\n",
       "      <td>4000.000000</td>\n",
       "      <td>4000.000000</td>\n",
       "    </tr>\n",
       "    <tr>\n",
       "      <th>mean</th>\n",
       "      <td>53.094750</td>\n",
       "      <td>4601.923475</td>\n",
       "    </tr>\n",
       "    <tr>\n",
       "      <th>std</th>\n",
       "      <td>20.011394</td>\n",
       "      <td>7647.654987</td>\n",
       "    </tr>\n",
       "    <tr>\n",
       "      <th>min</th>\n",
       "      <td>19.000000</td>\n",
       "      <td>0.000000</td>\n",
       "    </tr>\n",
       "    <tr>\n",
       "      <th>25%</th>\n",
       "      <td>36.000000</td>\n",
       "      <td>700.000000</td>\n",
       "    </tr>\n",
       "    <tr>\n",
       "      <th>50%</th>\n",
       "      <td>52.500000</td>\n",
       "      <td>2000.000000</td>\n",
       "    </tr>\n",
       "    <tr>\n",
       "      <th>75%</th>\n",
       "      <td>71.000000</td>\n",
       "      <td>5000.000000</td>\n",
       "    </tr>\n",
       "    <tr>\n",
       "      <th>max</th>\n",
       "      <td>88.000000</td>\n",
       "      <td>102500.000000</td>\n",
       "    </tr>\n",
       "  </tbody>\n",
       "</table>\n",
       "</div>"
      ],
      "text/plain": [
       "        Sample_Age  Sample_Loan_Amount\n",
       "count  4000.000000         4000.000000\n",
       "mean     53.094750         4601.923475\n",
       "std      20.011394         7647.654987\n",
       "min      19.000000            0.000000\n",
       "25%      36.000000          700.000000\n",
       "50%      52.500000         2000.000000\n",
       "75%      71.000000         5000.000000\n",
       "max      88.000000       102500.000000"
      ]
     },
     "execution_count": 42,
     "metadata": {},
     "output_type": "execute_result"
    }
   ],
   "source": [
    "sample_df.describe()"
   ]
  },
  {
   "cell_type": "code",
   "execution_count": 43,
   "metadata": {},
   "outputs": [
    {
     "data": {
      "text/html": [
       "<div>\n",
       "<style scoped>\n",
       "    .dataframe tbody tr th:only-of-type {\n",
       "        vertical-align: middle;\n",
       "    }\n",
       "\n",
       "    .dataframe tbody tr th {\n",
       "        vertical-align: top;\n",
       "    }\n",
       "\n",
       "    .dataframe thead th {\n",
       "        text-align: right;\n",
       "    }\n",
       "</style>\n",
       "<table border=\"1\" class=\"dataframe\">\n",
       "  <thead>\n",
       "    <tr style=\"text-align: right;\">\n",
       "      <th></th>\n",
       "      <th>age</th>\n",
       "      <th>loan_amount</th>\n",
       "    </tr>\n",
       "  </thead>\n",
       "  <tbody>\n",
       "    <tr>\n",
       "      <th>count</th>\n",
       "      <td>3936.000000</td>\n",
       "      <td>3936.000000</td>\n",
       "    </tr>\n",
       "    <tr>\n",
       "      <th>mean</th>\n",
       "      <td>45.241362</td>\n",
       "      <td>4755.631979</td>\n",
       "    </tr>\n",
       "    <tr>\n",
       "      <th>std</th>\n",
       "      <td>15.595089</td>\n",
       "      <td>8383.672677</td>\n",
       "    </tr>\n",
       "    <tr>\n",
       "      <th>min</th>\n",
       "      <td>19.000000</td>\n",
       "      <td>0.000000</td>\n",
       "    </tr>\n",
       "    <tr>\n",
       "      <th>25%</th>\n",
       "      <td>32.000000</td>\n",
       "      <td>700.000000</td>\n",
       "    </tr>\n",
       "    <tr>\n",
       "      <th>50%</th>\n",
       "      <td>44.000000</td>\n",
       "      <td>2000.000000</td>\n",
       "    </tr>\n",
       "    <tr>\n",
       "      <th>75%</th>\n",
       "      <td>57.000000</td>\n",
       "      <td>5000.000000</td>\n",
       "    </tr>\n",
       "    <tr>\n",
       "      <th>max</th>\n",
       "      <td>89.000000</td>\n",
       "      <td>102500.000000</td>\n",
       "    </tr>\n",
       "  </tbody>\n",
       "</table>\n",
       "</div>"
      ],
      "text/plain": [
       "               age    loan_amount\n",
       "count  3936.000000    3936.000000\n",
       "mean     45.241362    4755.631979\n",
       "std      15.595089    8383.672677\n",
       "min      19.000000       0.000000\n",
       "25%      32.000000     700.000000\n",
       "50%      44.000000    2000.000000\n",
       "75%      57.000000    5000.000000\n",
       "max      89.000000  102500.000000"
      ]
     },
     "execution_count": 43,
     "metadata": {},
     "output_type": "execute_result"
    }
   ],
   "source": [
    "df.describe()"
   ]
  },
  {
   "cell_type": "code",
   "execution_count": 44,
   "metadata": {},
   "outputs": [
    {
     "data": {
      "image/png": "[encoded data removed]",
      "text/plain": [
       "<Figure size 432x288 with 2 Axes>"
      ]
     },
     "metadata": {},
     "output_type": "display_data"
    }
   ],
   "source": [
    "sns.heatmap(sample_df.corr(),annot= True); #insert link here from medium that i used fro below"
   ]
  },
  {
   "cell_type": "markdown",
   "metadata": {},
   "source": [
    "Do Some Predictions?"
   ]
  },
  {
   "cell_type": "markdown",
   "metadata": {},
   "source": [
    "Model and Train?"
   ]
  },
  {
   "cell_type": "markdown",
   "metadata": {},
   "source": [
    "Digging a bit futher - summary by years "
   ]
  },
  {
   "cell_type": "code",
   "execution_count": null,
   "metadata": {},
   "outputs": [],
   "source": []
  }
 ],
 "metadata": {
  "kernelspec": {
   "display_name": "Python 3",
   "language": "python",
   "name": "python3"
  },
  "language_info": {
   "codemirror_mode": {
    "name": "ipython",
    "version": 3
   },
   "file_extension": ".py",
   "mimetype": "text/x-python",
   "name": "python",
   "nbconvert_exporter": "python",
   "pygments_lexer": "ipython3",
   "version": "3.8.3"
  }
 },
 "nbformat": 4,
 "nbformat_minor": 4
}
