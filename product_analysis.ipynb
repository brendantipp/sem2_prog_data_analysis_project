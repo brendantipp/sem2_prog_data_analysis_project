{
 "cells": [
  {
   "cell_type": "markdown",
   "metadata": {},
   "source": [
    "## Programming for Data Analyis Project Semester (2) 2020\n",
    "Brendan Ryan GMIT"
   ]
  },
  {
   "cell_type": "markdown",
   "metadata": {},
   "source": [
    "I have picked on a real world phenomenon in my own professional life. This is what  is the likelyhood of a member of the financial institution I work in availing of a service (in this case take a loan), based on their age, sex and employment status and then look at the the type of product they normally borrow for. "
   ]
  },
  {
   "cell_type": "markdown",
   "metadata": {},
   "source": [
    "I will be using the following variables\n",
    "\n",
    "- AGE\n",
    "- Month (month of application)\n",
    "- Date (date of appliation)\n",
    "- Employment Status\n",
    "- Gender\n",
    "- Loan Type\n",
    "- Loan Amount Range\n",
    "- Loan Amount\n"
   ]
  },
  {
   "cell_type": "markdown",
   "metadata": {},
   "source": [
    "Import the required libraries\n",
    "** Give brief descriptoin of what each library does.."
   ]
  },
  {
   "cell_type": "code",
   "execution_count": 1,
   "metadata": {},
   "outputs": [],
   "source": [
    "import pandas as pd\n",
    "import numpy as np\n",
    "import seaborn as sns\n",
    "import matplotlib.pyplot as plt"
   ]
  },
  {
   "cell_type": "markdown",
   "metadata": {},
   "source": [
    "Import our Data Set based on the output of ones years lending \n"
   ]
  },
  {
   "cell_type": "code",
   "execution_count": 2,
   "metadata": {},
   "outputs": [],
   "source": [
    "import pandas as pd\n",
    "df = pd.read_csv('analysis.csv')"
   ]
  },
  {
   "cell_type": "markdown",
   "metadata": {},
   "source": [
    "## Test that our data set has loaded\n",
    "** note maybe add in here only to load some rows"
   ]
  },
  {
   "cell_type": "code",
   "execution_count": 3,
   "metadata": {},
   "outputs": [
    {
     "data": {
      "text/html": [
       "<div>\n",
       "<style scoped>\n",
       "    .dataframe tbody tr th:only-of-type {\n",
       "        vertical-align: middle;\n",
       "    }\n",
       "\n",
       "    .dataframe tbody tr th {\n",
       "        vertical-align: top;\n",
       "    }\n",
       "\n",
       "    .dataframe thead th {\n",
       "        text-align: right;\n",
       "    }\n",
       "</style>\n",
       "<table border=\"1\" class=\"dataframe\">\n",
       "  <thead>\n",
       "    <tr style=\"text-align: right;\">\n",
       "      <th></th>\n",
       "      <th>Age</th>\n",
       "      <th>Month</th>\n",
       "      <th>Date</th>\n",
       "      <th>Employment Status</th>\n",
       "      <th>Gender</th>\n",
       "      <th>Loan Purpose</th>\n",
       "      <th>Loan Amount Range</th>\n",
       "      <th>Loan Amount</th>\n",
       "    </tr>\n",
       "  </thead>\n",
       "  <tbody>\n",
       "    <tr>\n",
       "      <th>0</th>\n",
       "      <td>19</td>\n",
       "      <td>October</td>\n",
       "      <td>43742</td>\n",
       "      <td>FULL TIME</td>\n",
       "      <td>Male</td>\n",
       "      <td>Car</td>\n",
       "      <td>10,001 - 15,000</td>\n",
       "      <td>13000.0</td>\n",
       "    </tr>\n",
       "    <tr>\n",
       "      <th>1</th>\n",
       "      <td>19</td>\n",
       "      <td>August</td>\n",
       "      <td>43705</td>\n",
       "      <td>STUDENT</td>\n",
       "      <td>Male</td>\n",
       "      <td>Student</td>\n",
       "      <td>1,001 - 5,000</td>\n",
       "      <td>3000.0</td>\n",
       "    </tr>\n",
       "    <tr>\n",
       "      <th>2</th>\n",
       "      <td>19</td>\n",
       "      <td>March</td>\n",
       "      <td>43552</td>\n",
       "      <td>FULL TIME</td>\n",
       "      <td>Male</td>\n",
       "      <td>Personal</td>\n",
       "      <td>5,001 - 10,000</td>\n",
       "      <td>7000.0</td>\n",
       "    </tr>\n",
       "    <tr>\n",
       "      <th>3</th>\n",
       "      <td>19</td>\n",
       "      <td>September</td>\n",
       "      <td>43736</td>\n",
       "      <td>STUDENT</td>\n",
       "      <td>FEMALE</td>\n",
       "      <td>Student</td>\n",
       "      <td>0 - 1,000</td>\n",
       "      <td>1000.0</td>\n",
       "    </tr>\n",
       "    <tr>\n",
       "      <th>4</th>\n",
       "      <td>19</td>\n",
       "      <td>August</td>\n",
       "      <td>43699</td>\n",
       "      <td>STUDENT</td>\n",
       "      <td>Male</td>\n",
       "      <td>Student</td>\n",
       "      <td>5,001 - 10,000</td>\n",
       "      <td>10000.0</td>\n",
       "    </tr>\n",
       "    <tr>\n",
       "      <th>...</th>\n",
       "      <td>...</td>\n",
       "      <td>...</td>\n",
       "      <td>...</td>\n",
       "      <td>...</td>\n",
       "      <td>...</td>\n",
       "      <td>...</td>\n",
       "      <td>...</td>\n",
       "      <td>...</td>\n",
       "    </tr>\n",
       "    <tr>\n",
       "      <th>3931</th>\n",
       "      <td>85</td>\n",
       "      <td>June</td>\n",
       "      <td>43623</td>\n",
       "      <td>RETIRED</td>\n",
       "      <td>FEMALE</td>\n",
       "      <td>Personal</td>\n",
       "      <td>0 - 1,000</td>\n",
       "      <td>600.0</td>\n",
       "    </tr>\n",
       "    <tr>\n",
       "      <th>3932</th>\n",
       "      <td>85</td>\n",
       "      <td>February</td>\n",
       "      <td>43521</td>\n",
       "      <td>RETIRED</td>\n",
       "      <td>FEMALE</td>\n",
       "      <td>Personal</td>\n",
       "      <td>0 - 1,000</td>\n",
       "      <td>1000.0</td>\n",
       "    </tr>\n",
       "    <tr>\n",
       "      <th>3933</th>\n",
       "      <td>85</td>\n",
       "      <td>December</td>\n",
       "      <td>43801</td>\n",
       "      <td>RETIRED</td>\n",
       "      <td>FEMALE</td>\n",
       "      <td>Personal</td>\n",
       "      <td>1,001 - 5,000</td>\n",
       "      <td>2000.0</td>\n",
       "    </tr>\n",
       "    <tr>\n",
       "      <th>3934</th>\n",
       "      <td>87</td>\n",
       "      <td>March</td>\n",
       "      <td>43525</td>\n",
       "      <td>RETIRED</td>\n",
       "      <td>FEMALE</td>\n",
       "      <td>Personal</td>\n",
       "      <td>1,001 - 5,000</td>\n",
       "      <td>2000.0</td>\n",
       "    </tr>\n",
       "    <tr>\n",
       "      <th>3935</th>\n",
       "      <td>89</td>\n",
       "      <td>March</td>\n",
       "      <td>43552</td>\n",
       "      <td>RETIRED</td>\n",
       "      <td>FEMALE</td>\n",
       "      <td>Personal</td>\n",
       "      <td>1,001 - 5,000</td>\n",
       "      <td>3000.0</td>\n",
       "    </tr>\n",
       "  </tbody>\n",
       "</table>\n",
       "<p>3936 rows × 8 columns</p>\n",
       "</div>"
      ],
      "text/plain": [
       "      Age      Month   Date Employment Status  Gender Loan Purpose  \\\n",
       "0      19    October  43742         FULL TIME    Male          Car   \n",
       "1      19     August  43705           STUDENT    Male      Student   \n",
       "2      19      March  43552         FULL TIME    Male     Personal   \n",
       "3      19  September  43736           STUDENT  FEMALE      Student   \n",
       "4      19     August  43699           STUDENT    Male      Student   \n",
       "...   ...        ...    ...               ...     ...          ...   \n",
       "3931   85       June  43623           RETIRED  FEMALE     Personal   \n",
       "3932   85   February  43521           RETIRED  FEMALE     Personal   \n",
       "3933   85   December  43801           RETIRED  FEMALE     Personal   \n",
       "3934   87      March  43525           RETIRED  FEMALE     Personal   \n",
       "3935   89      March  43552           RETIRED  FEMALE     Personal   \n",
       "\n",
       "     Loan Amount Range  Loan Amount  \n",
       "0      10,001 - 15,000      13000.0  \n",
       "1        1,001 - 5,000       3000.0  \n",
       "2       5,001 - 10,000       7000.0  \n",
       "3            0 - 1,000       1000.0  \n",
       "4       5,001 - 10,000      10000.0  \n",
       "...                ...          ...  \n",
       "3931         0 - 1,000        600.0  \n",
       "3932         0 - 1,000       1000.0  \n",
       "3933     1,001 - 5,000       2000.0  \n",
       "3934     1,001 - 5,000       2000.0  \n",
       "3935     1,001 - 5,000       3000.0  \n",
       "\n",
       "[3936 rows x 8 columns]"
      ]
     },
     "execution_count": 3,
     "metadata": {},
     "output_type": "execute_result"
    }
   ],
   "source": [
    "df"
   ]
  },
  {
   "cell_type": "markdown",
   "metadata": {},
   "source": [
    "Test that our improted data looks ok by using df.head and df.tail "
   ]
  },
  {
   "cell_type": "code",
   "execution_count": 4,
   "metadata": {},
   "outputs": [
    {
     "data": {
      "text/html": [
       "<div>\n",
       "<style scoped>\n",
       "    .dataframe tbody tr th:only-of-type {\n",
       "        vertical-align: middle;\n",
       "    }\n",
       "\n",
       "    .dataframe tbody tr th {\n",
       "        vertical-align: top;\n",
       "    }\n",
       "\n",
       "    .dataframe thead th {\n",
       "        text-align: right;\n",
       "    }\n",
       "</style>\n",
       "<table border=\"1\" class=\"dataframe\">\n",
       "  <thead>\n",
       "    <tr style=\"text-align: right;\">\n",
       "      <th></th>\n",
       "      <th>Age</th>\n",
       "      <th>Month</th>\n",
       "      <th>Date</th>\n",
       "      <th>Employment Status</th>\n",
       "      <th>Gender</th>\n",
       "      <th>Loan Purpose</th>\n",
       "      <th>Loan Amount Range</th>\n",
       "      <th>Loan Amount</th>\n",
       "    </tr>\n",
       "  </thead>\n",
       "  <tbody>\n",
       "    <tr>\n",
       "      <th>0</th>\n",
       "      <td>19</td>\n",
       "      <td>October</td>\n",
       "      <td>43742</td>\n",
       "      <td>FULL TIME</td>\n",
       "      <td>Male</td>\n",
       "      <td>Car</td>\n",
       "      <td>10,001 - 15,000</td>\n",
       "      <td>13000.0</td>\n",
       "    </tr>\n",
       "    <tr>\n",
       "      <th>1</th>\n",
       "      <td>19</td>\n",
       "      <td>August</td>\n",
       "      <td>43705</td>\n",
       "      <td>STUDENT</td>\n",
       "      <td>Male</td>\n",
       "      <td>Student</td>\n",
       "      <td>1,001 - 5,000</td>\n",
       "      <td>3000.0</td>\n",
       "    </tr>\n",
       "    <tr>\n",
       "      <th>2</th>\n",
       "      <td>19</td>\n",
       "      <td>March</td>\n",
       "      <td>43552</td>\n",
       "      <td>FULL TIME</td>\n",
       "      <td>Male</td>\n",
       "      <td>Personal</td>\n",
       "      <td>5,001 - 10,000</td>\n",
       "      <td>7000.0</td>\n",
       "    </tr>\n",
       "    <tr>\n",
       "      <th>3</th>\n",
       "      <td>19</td>\n",
       "      <td>September</td>\n",
       "      <td>43736</td>\n",
       "      <td>STUDENT</td>\n",
       "      <td>FEMALE</td>\n",
       "      <td>Student</td>\n",
       "      <td>0 - 1,000</td>\n",
       "      <td>1000.0</td>\n",
       "    </tr>\n",
       "    <tr>\n",
       "      <th>4</th>\n",
       "      <td>19</td>\n",
       "      <td>August</td>\n",
       "      <td>43699</td>\n",
       "      <td>STUDENT</td>\n",
       "      <td>Male</td>\n",
       "      <td>Student</td>\n",
       "      <td>5,001 - 10,000</td>\n",
       "      <td>10000.0</td>\n",
       "    </tr>\n",
       "  </tbody>\n",
       "</table>\n",
       "</div>"
      ],
      "text/plain": [
       "   Age      Month   Date Employment Status  Gender Loan Purpose  \\\n",
       "0   19    October  43742         FULL TIME    Male          Car   \n",
       "1   19     August  43705           STUDENT    Male      Student   \n",
       "2   19      March  43552         FULL TIME    Male     Personal   \n",
       "3   19  September  43736           STUDENT  FEMALE      Student   \n",
       "4   19     August  43699           STUDENT    Male      Student   \n",
       "\n",
       "  Loan Amount Range  Loan Amount  \n",
       "0   10,001 - 15,000      13000.0  \n",
       "1     1,001 - 5,000       3000.0  \n",
       "2    5,001 - 10,000       7000.0  \n",
       "3         0 - 1,000       1000.0  \n",
       "4    5,001 - 10,000      10000.0  "
      ]
     },
     "execution_count": 4,
     "metadata": {},
     "output_type": "execute_result"
    }
   ],
   "source": [
    "df.head()"
   ]
  },
  {
   "cell_type": "code",
   "execution_count": 5,
   "metadata": {
    "scrolled": true
   },
   "outputs": [
    {
     "data": {
      "text/html": [
       "<div>\n",
       "<style scoped>\n",
       "    .dataframe tbody tr th:only-of-type {\n",
       "        vertical-align: middle;\n",
       "    }\n",
       "\n",
       "    .dataframe tbody tr th {\n",
       "        vertical-align: top;\n",
       "    }\n",
       "\n",
       "    .dataframe thead th {\n",
       "        text-align: right;\n",
       "    }\n",
       "</style>\n",
       "<table border=\"1\" class=\"dataframe\">\n",
       "  <thead>\n",
       "    <tr style=\"text-align: right;\">\n",
       "      <th></th>\n",
       "      <th>Age</th>\n",
       "      <th>Month</th>\n",
       "      <th>Date</th>\n",
       "      <th>Employment Status</th>\n",
       "      <th>Gender</th>\n",
       "      <th>Loan Purpose</th>\n",
       "      <th>Loan Amount Range</th>\n",
       "      <th>Loan Amount</th>\n",
       "    </tr>\n",
       "  </thead>\n",
       "  <tbody>\n",
       "    <tr>\n",
       "      <th>3931</th>\n",
       "      <td>85</td>\n",
       "      <td>June</td>\n",
       "      <td>43623</td>\n",
       "      <td>RETIRED</td>\n",
       "      <td>FEMALE</td>\n",
       "      <td>Personal</td>\n",
       "      <td>0 - 1,000</td>\n",
       "      <td>600.0</td>\n",
       "    </tr>\n",
       "    <tr>\n",
       "      <th>3932</th>\n",
       "      <td>85</td>\n",
       "      <td>February</td>\n",
       "      <td>43521</td>\n",
       "      <td>RETIRED</td>\n",
       "      <td>FEMALE</td>\n",
       "      <td>Personal</td>\n",
       "      <td>0 - 1,000</td>\n",
       "      <td>1000.0</td>\n",
       "    </tr>\n",
       "    <tr>\n",
       "      <th>3933</th>\n",
       "      <td>85</td>\n",
       "      <td>December</td>\n",
       "      <td>43801</td>\n",
       "      <td>RETIRED</td>\n",
       "      <td>FEMALE</td>\n",
       "      <td>Personal</td>\n",
       "      <td>1,001 - 5,000</td>\n",
       "      <td>2000.0</td>\n",
       "    </tr>\n",
       "    <tr>\n",
       "      <th>3934</th>\n",
       "      <td>87</td>\n",
       "      <td>March</td>\n",
       "      <td>43525</td>\n",
       "      <td>RETIRED</td>\n",
       "      <td>FEMALE</td>\n",
       "      <td>Personal</td>\n",
       "      <td>1,001 - 5,000</td>\n",
       "      <td>2000.0</td>\n",
       "    </tr>\n",
       "    <tr>\n",
       "      <th>3935</th>\n",
       "      <td>89</td>\n",
       "      <td>March</td>\n",
       "      <td>43552</td>\n",
       "      <td>RETIRED</td>\n",
       "      <td>FEMALE</td>\n",
       "      <td>Personal</td>\n",
       "      <td>1,001 - 5,000</td>\n",
       "      <td>3000.0</td>\n",
       "    </tr>\n",
       "  </tbody>\n",
       "</table>\n",
       "</div>"
      ],
      "text/plain": [
       "      Age     Month   Date Employment Status  Gender Loan Purpose  \\\n",
       "3931   85      June  43623           RETIRED  FEMALE     Personal   \n",
       "3932   85  February  43521           RETIRED  FEMALE     Personal   \n",
       "3933   85  December  43801           RETIRED  FEMALE     Personal   \n",
       "3934   87     March  43525           RETIRED  FEMALE     Personal   \n",
       "3935   89     March  43552           RETIRED  FEMALE     Personal   \n",
       "\n",
       "     Loan Amount Range  Loan Amount  \n",
       "3931         0 - 1,000        600.0  \n",
       "3932         0 - 1,000       1000.0  \n",
       "3933     1,001 - 5,000       2000.0  \n",
       "3934     1,001 - 5,000       2000.0  \n",
       "3935     1,001 - 5,000       3000.0  "
      ]
     },
     "execution_count": 5,
     "metadata": {},
     "output_type": "execute_result"
    }
   ],
   "source": [
    "df.tail()"
   ]
  },
  {
   "cell_type": "markdown",
   "metadata": {},
   "source": [
    "Everything looks ok above we can see the shape of our dataframe is correct"
   ]
  },
  {
   "cell_type": "markdown",
   "metadata": {},
   "source": [
    "Lets have a look at the typoe of varibales we have to work with using the df.dtypes funtion "
   ]
  },
  {
   "cell_type": "code",
   "execution_count": 6,
   "metadata": {},
   "outputs": [
    {
     "data": {
      "text/plain": [
       "Age                    int64\n",
       "Month                 object\n",
       "Date                   int64\n",
       "Employment Status     object\n",
       "Gender                object\n",
       "Loan Purpose          object\n",
       "Loan Amount Range     object\n",
       "Loan Amount          float64\n",
       "dtype: object"
      ]
     },
     "execution_count": 6,
     "metadata": {},
     "output_type": "execute_result"
    }
   ],
   "source": [
    "df.dtypes"
   ]
  },
  {
   "cell_type": "markdown",
   "metadata": {},
   "source": [
    "Ok as we can see from above we are dealing with 2 varibales of type object and 1 variable of type int64"
   ]
  },
  {
   "cell_type": "code",
   "execution_count": 7,
   "metadata": {},
   "outputs": [
    {
     "data": {
      "text/html": [
       "<div>\n",
       "<style scoped>\n",
       "    .dataframe tbody tr th:only-of-type {\n",
       "        vertical-align: middle;\n",
       "    }\n",
       "\n",
       "    .dataframe tbody tr th {\n",
       "        vertical-align: top;\n",
       "    }\n",
       "\n",
       "    .dataframe thead th {\n",
       "        text-align: right;\n",
       "    }\n",
       "</style>\n",
       "<table border=\"1\" class=\"dataframe\">\n",
       "  <thead>\n",
       "    <tr style=\"text-align: right;\">\n",
       "      <th></th>\n",
       "      <th>Age</th>\n",
       "      <th>Date</th>\n",
       "      <th>Loan Amount</th>\n",
       "    </tr>\n",
       "  </thead>\n",
       "  <tbody>\n",
       "    <tr>\n",
       "      <th>count</th>\n",
       "      <td>3936.000000</td>\n",
       "      <td>3936.000000</td>\n",
       "      <td>3936.000000</td>\n",
       "    </tr>\n",
       "    <tr>\n",
       "      <th>mean</th>\n",
       "      <td>45.241362</td>\n",
       "      <td>43654.225610</td>\n",
       "      <td>4755.631979</td>\n",
       "    </tr>\n",
       "    <tr>\n",
       "      <th>std</th>\n",
       "      <td>15.595089</td>\n",
       "      <td>104.040777</td>\n",
       "      <td>8383.672677</td>\n",
       "    </tr>\n",
       "    <tr>\n",
       "      <th>min</th>\n",
       "      <td>19.000000</td>\n",
       "      <td>43467.000000</td>\n",
       "      <td>0.000000</td>\n",
       "    </tr>\n",
       "    <tr>\n",
       "      <th>25%</th>\n",
       "      <td>32.000000</td>\n",
       "      <td>43563.000000</td>\n",
       "      <td>700.000000</td>\n",
       "    </tr>\n",
       "    <tr>\n",
       "      <th>50%</th>\n",
       "      <td>44.000000</td>\n",
       "      <td>43657.000000</td>\n",
       "      <td>2000.000000</td>\n",
       "    </tr>\n",
       "    <tr>\n",
       "      <th>75%</th>\n",
       "      <td>57.000000</td>\n",
       "      <td>43746.000000</td>\n",
       "      <td>5000.000000</td>\n",
       "    </tr>\n",
       "    <tr>\n",
       "      <th>max</th>\n",
       "      <td>89.000000</td>\n",
       "      <td>43830.000000</td>\n",
       "      <td>102500.000000</td>\n",
       "    </tr>\n",
       "  </tbody>\n",
       "</table>\n",
       "</div>"
      ],
      "text/plain": [
       "               Age          Date    Loan Amount\n",
       "count  3936.000000   3936.000000    3936.000000\n",
       "mean     45.241362  43654.225610    4755.631979\n",
       "std      15.595089    104.040777    8383.672677\n",
       "min      19.000000  43467.000000       0.000000\n",
       "25%      32.000000  43563.000000     700.000000\n",
       "50%      44.000000  43657.000000    2000.000000\n",
       "75%      57.000000  43746.000000    5000.000000\n",
       "max      89.000000  43830.000000  102500.000000"
      ]
     },
     "execution_count": 7,
     "metadata": {},
     "output_type": "execute_result"
    }
   ],
   "source": [
    "df.describe()"
   ]
  },
  {
   "cell_type": "markdown",
   "metadata": {},
   "source": [
    "ok as Age is our only colum of type integer it is the only one which will be returned for statistical values as shown above "
   ]
  },
  {
   "cell_type": "markdown",
   "metadata": {},
   "source": [
    "lets have a look at df.info which is another usefulo tol to give us more info on our dataframe"
   ]
  },
  {
   "cell_type": "code",
   "execution_count": 8,
   "metadata": {},
   "outputs": [
    {
     "name": "stdout",
     "output_type": "stream",
     "text": [
      "<class 'pandas.core.frame.DataFrame'>\n",
      "RangeIndex: 3936 entries, 0 to 3935\n",
      "Data columns (total 8 columns):\n",
      " #   Column             Non-Null Count  Dtype  \n",
      "---  ------             --------------  -----  \n",
      " 0   Age                3936 non-null   int64  \n",
      " 1   Month              3936 non-null   object \n",
      " 2   Date               3936 non-null   int64  \n",
      " 3   Employment Status  3936 non-null   object \n",
      " 4   Gender             3936 non-null   object \n",
      " 5   Loan Purpose       3936 non-null   object \n",
      " 6   Loan Amount Range  3936 non-null   object \n",
      " 7   Loan Amount        3936 non-null   float64\n",
      "dtypes: float64(1), int64(2), object(5)\n",
      "memory usage: 246.1+ KB\n"
     ]
    }
   ],
   "source": [
    "df.info()"
   ]
  },
  {
   "cell_type": "markdown",
   "metadata": {},
   "source": [
    "look at making the Financial month a date time # help from https://https://pbpython.com/pandas_dtypes.html"
   ]
  },
  {
   "cell_type": "code",
   "execution_count": 9,
   "metadata": {},
   "outputs": [
    {
     "data": {
      "text/plain": [
       "0      1970-01-01 00:00:00.000043742\n",
       "1      1970-01-01 00:00:00.000043705\n",
       "2      1970-01-01 00:00:00.000043552\n",
       "3      1970-01-01 00:00:00.000043736\n",
       "4      1970-01-01 00:00:00.000043699\n",
       "                    ...             \n",
       "3931   1970-01-01 00:00:00.000043623\n",
       "3932   1970-01-01 00:00:00.000043521\n",
       "3933   1970-01-01 00:00:00.000043801\n",
       "3934   1970-01-01 00:00:00.000043525\n",
       "3935   1970-01-01 00:00:00.000043552\n",
       "Name: Date, Length: 3936, dtype: datetime64[ns]"
      ]
     },
     "execution_count": 9,
     "metadata": {},
     "output_type": "execute_result"
    }
   ],
   "source": [
    "pd.to_datetime(df[\"Date\"])# - not working lets come back to this and research some more"
   ]
  },
  {
   "cell_type": "markdown",
   "metadata": {},
   "source": [
    "### Best practice convernt some of our data types into categories "
   ]
  },
  {
   "cell_type": "code",
   "execution_count": 10,
   "metadata": {},
   "outputs": [],
   "source": [
    "df[[\"Month\",\"Gender\", \"Employment Status\",\"Loan Purpose\"]] = df[[\"Month\",\"Gender\", \"Employment Status\",\"Loan Purpose\"]].astype(\"category\")"
   ]
  },
  {
   "cell_type": "code",
   "execution_count": 11,
   "metadata": {},
   "outputs": [
    {
     "name": "stdout",
     "output_type": "stream",
     "text": [
      "<class 'pandas.core.frame.DataFrame'>\n",
      "RangeIndex: 3936 entries, 0 to 3935\n",
      "Data columns (total 8 columns):\n",
      " #   Column             Non-Null Count  Dtype   \n",
      "---  ------             --------------  -----   \n",
      " 0   Age                3936 non-null   int64   \n",
      " 1   Month              3936 non-null   category\n",
      " 2   Date               3936 non-null   int64   \n",
      " 3   Employment Status  3936 non-null   category\n",
      " 4   Gender             3936 non-null   category\n",
      " 5   Loan Purpose       3936 non-null   category\n",
      " 6   Loan Amount Range  3936 non-null   object  \n",
      " 7   Loan Amount        3936 non-null   float64 \n",
      "dtypes: category(4), float64(1), int64(2), object(1)\n",
      "memory usage: 139.6+ KB\n"
     ]
    }
   ],
   "source": [
    "df.info();"
   ]
  },
  {
   "cell_type": "markdown",
   "metadata": {},
   "source": [
    "## Reviewing the data to figure out the types of distributions"
   ]
  },
  {
   "cell_type": "markdown",
   "metadata": {},
   "source": [
    "Count plot\n",
    "This is essentially the same as barplot except the estimator is explicitly counting the number of occurrences. Which is why we only pass the x value. Command for creating countplot is:"
   ]
  },
  {
   "cell_type": "code",
   "execution_count": 34,
   "metadata": {},
   "outputs": [
    {
     "data": {
      "image/png": "[encoded data removed]",
      "text/plain": [
       "<Figure size 432x288 with 1 Axes>"
      ]
     },
     "metadata": {
      "needs_background": "light"
     },
     "output_type": "display_data"
    }
   ],
   "source": [
    "#df.Age.plot(kind='kde');\n",
    "#df.groupby('Gender').Age.plot(kind='kde')\n",
    "#df.Age.plot(kind='kde')\n",
    "Age = df[\"Age\"]\n",
    "sns.distplot(Age);"
   ]
  },
  {
   "cell_type": "code",
   "execution_count": 13,
   "metadata": {},
   "outputs": [
    {
     "data": {
      "text/plain": [
       "count    3936.000000\n",
       "mean       45.241362\n",
       "std        15.595089\n",
       "min        19.000000\n",
       "25%        32.000000\n",
       "50%        44.000000\n",
       "75%        57.000000\n",
       "max        89.000000\n",
       "Name: Age, dtype: float64"
      ]
     },
     "execution_count": 13,
     "metadata": {},
     "output_type": "execute_result"
    }
   ],
   "source": [
    "df.Age.describe()"
   ]
  },
  {
   "cell_type": "code",
   "execution_count": 14,
   "metadata": {},
   "outputs": [
    {
     "data": {
      "image/png": "[encoded data removed]",
      "text/plain": [
       "<Figure size 432x288 with 1 Axes>"
      ]
     },
     "metadata": {
      "needs_background": "light"
     },
     "output_type": "display_data"
    }
   ],
   "source": [
    "#df.Age.plot(kind='kde');\n",
    "#df.groupby('Gender').Age.plot(kind='kde')\n",
    "#df.Age.plot(kind='kde')\n",
    "#Loan Amount = df[\"Loan Amount\"]\n",
    "sns.distplot(df[\"Loan Amount\"]);"
   ]
  },
  {
   "cell_type": "code",
   "execution_count": 15,
   "metadata": {},
   "outputs": [
    {
     "data": {
      "text/plain": [
       "<seaborn.axisgrid.FacetGrid at 0x1bcfc3a5c70>"
      ]
     },
     "execution_count": 15,
     "metadata": {},
     "output_type": "execute_result"
    },
    {
     "data": {
      "image/png": "[encoded data removed]",
      "text/plain": [
       "<Figure size 360x360 with 1 Axes>"
      ]
     },
     "metadata": {
      "needs_background": "light"
     },
     "output_type": "display_data"
    }
   ],
   "source": [
    "sns.catplot(x=\"Loan Purpose\", kind=\"count\", palette=\"ch:.25\", data=df)\n",
    "#https://seaborn.pydata.org/tutorial/categorical.html"
   ]
  },
  {
   "cell_type": "code",
   "execution_count": 26,
   "metadata": {},
   "outputs": [
    {
     "data": {
      "image/png": "[encoded data removed]",
      "text/plain": [
       "<Figure size 360x360 with 1 Axes>"
      ]
     },
     "metadata": {
      "needs_background": "light"
     },
     "output_type": "display_data"
    }
   ],
   "source": [
    "sns.catplot(x=\"Employment Status\", kind=\"count\", palette=\"ch:.25\", data=df);\n",
    "#https://seaborn.pydata.org/tutorial/categorical.html"
   ]
  },
  {
   "cell_type": "code",
   "execution_count": 17,
   "metadata": {},
   "outputs": [
    {
     "data": {
      "text/plain": [
       "<matplotlib.axes._subplots.AxesSubplot at 0x1bcfccb9bb0>"
      ]
     },
     "execution_count": 17,
     "metadata": {},
     "output_type": "execute_result"
    },
    {
     "data": {
      "image/png": "[encoded data removed]",
      "text/plain": [
       "<Figure size 432x288 with 1 Axes>"
      ]
     },
     "metadata": {
      "needs_background": "light"
     },
     "output_type": "display_data"
    }
   ],
   "source": [
    "sns.countplot(x='Gender',data=df)\n",
    "#https://datascienceplus.com/seaborn-categorical-plots-in-python/"
   ]
  },
  {
   "cell_type": "code",
   "execution_count": 18,
   "metadata": {},
   "outputs": [
    {
     "data": {
      "text/html": [
       "<div>\n",
       "<style scoped>\n",
       "    .dataframe tbody tr th:only-of-type {\n",
       "        vertical-align: middle;\n",
       "    }\n",
       "\n",
       "    .dataframe tbody tr th {\n",
       "        vertical-align: top;\n",
       "    }\n",
       "\n",
       "    .dataframe thead th {\n",
       "        text-align: right;\n",
       "    }\n",
       "</style>\n",
       "<table border=\"1\" class=\"dataframe\">\n",
       "  <thead>\n",
       "    <tr style=\"text-align: right;\">\n",
       "      <th></th>\n",
       "      <th>Age</th>\n",
       "    </tr>\n",
       "    <tr>\n",
       "      <th>Gender</th>\n",
       "      <th></th>\n",
       "    </tr>\n",
       "  </thead>\n",
       "  <tbody>\n",
       "    <tr>\n",
       "      <th>FEMALE</th>\n",
       "      <td>2072</td>\n",
       "    </tr>\n",
       "    <tr>\n",
       "      <th>Male</th>\n",
       "      <td>1864</td>\n",
       "    </tr>\n",
       "  </tbody>\n",
       "</table>\n",
       "</div>"
      ],
      "text/plain": [
       "         Age\n",
       "Gender      \n",
       "FEMALE  2072\n",
       "Male    1864"
      ]
     },
     "execution_count": 18,
     "metadata": {},
     "output_type": "execute_result"
    }
   ],
   "source": [
    "df[[\"Gender\",\"Age\"]].groupby(\"Gender\").count()\n",
    "#https://pandas.pydata.org/pandas-docs/dev/getting_started/intro_tutorials/06_calculate_statistics.html"
   ]
  },
  {
   "cell_type": "code",
   "execution_count": 19,
   "metadata": {},
   "outputs": [
    {
     "data": {
      "image/png": "[encoded data removed]",
      "text/plain": [
       "<Figure size 432x288 with 1 Axes>"
      ]
     },
     "metadata": {
      "needs_background": "light"
     },
     "output_type": "display_data"
    }
   ],
   "source": [
    "sns.boxplot(x='Gender',y=\"Age\",data=df);"
   ]
  },
  {
   "cell_type": "code",
   "execution_count": 21,
   "metadata": {},
   "outputs": [
    {
     "data": {
      "image/png": "[encoded data removed]",
      "text/plain": [
       "<Figure size 432x288 with 1 Axes>"
      ]
     },
     "metadata": {
      "needs_background": "light"
     },
     "output_type": "display_data"
    }
   ],
   "source": [
    "sns.boxplot(x='Loan Purpose',y=\"Age\",data=df);"
   ]
  },
  {
   "cell_type": "code",
   "execution_count": null,
   "metadata": {},
   "outputs": [],
   "source": [
    "sns.catplot(x=\"Loan Type\", y=\"Age\", hue=\"Gender\", kind=\"box\", data=df);\n",
    "#https://seaborn.pydata.org/tutorial/categorical.html"
   ]
  },
  {
   "cell_type": "code",
   "execution_count": null,
   "metadata": {},
   "outputs": [],
   "source": [
    "sns.catplot(x=\"Gender\", y=\"Age\", hue=\"Loan Type\", kind=\"bar\", data=df);"
   ]
  },
  {
   "cell_type": "code",
   "execution_count": null,
   "metadata": {},
   "outputs": [],
   "source": [
    "%matplotlib inline\n",
    "sns.set(style=\"darkgrid\")\n",
    "ax = sns.countplot(x='Loan Type',hue=\"Gender\" , data=df)\n",
    "plt.show()"
   ]
  },
  {
   "cell_type": "code",
   "execution_count": null,
   "metadata": {},
   "outputs": [],
   "source": [
    "#https://towardsdatascience.com/hands-on-python-data-visualization-seaborn-count-plot-90e823599012"
   ]
  },
  {
   "cell_type": "markdown",
   "metadata": {},
   "source": [
    "## Create the sample random data\n",
    "\n"
   ]
  },
  {
   "cell_type": "markdown",
   "metadata": {},
   "source": [
    "Start with the creation of the sample data as per the AGE - as we say above the distribtion of the Age varibale is closest aligned to that of a Normal Distribution"
   ]
  },
  {
   "cell_type": "markdown",
   "metadata": {},
   "source": [
    "I am going to use the pands df.describe fuction to get the mean and standard deviation of the data in teh Age column - we will use thes as part\n",
    "of our Numpy random.normal fucntion to get some random data"
   ]
  },
  {
   "cell_type": "code",
   "execution_count": null,
   "metadata": {},
   "outputs": [],
   "source": [
    "df.Age.describe()"
   ]
  },
  {
   "cell_type": "markdown",
   "metadata": {},
   "source": [
    "Testing to see can i create some variables - neeed to set proabilty - how will i do this accross the varibales ? Maybe need a loop or functions?"
   ]
  },
  {
   "cell_type": "code",
   "execution_count": null,
   "metadata": {},
   "outputs": [],
   "source": [
    "n_samples = 200\n",
    "mean_age, deviation_age = 45.241362, 15.595089"
   ]
  },
  {
   "cell_type": "code",
   "execution_count": 27,
   "metadata": {},
   "outputs": [],
   "source": [
    "sample_age = np.random.normal(45.241362,15.595089,200).astype(int)"
   ]
  },
  {
   "cell_type": "code",
   "execution_count": 32,
   "metadata": {},
   "outputs": [
    {
     "data": {
      "image/png": "[encoded data removed]",
      "text/plain": [
       "<Figure size 432x288 with 1 Axes>"
      ]
     },
     "metadata": {
      "needs_background": "light"
     },
     "output_type": "display_data"
    }
   ],
   "source": [
    "sns.distplot(sample_age);"
   ]
  },
  {
   "cell_type": "code",
   "execution_count": 29,
   "metadata": {},
   "outputs": [
    {
     "name": "stdout",
     "output_type": "stream",
     "text": [
      "     sample_age sample_Loan_type sample_gender\n",
      "0            31              Car          Male\n",
      "1            22              Car        Female\n",
      "2            69         Personal        Female\n",
      "3            33             Agri          Male\n",
      "4            23              Car          Male\n",
      "..          ...              ...           ...\n",
      "195          18         Personal        Female\n",
      "196          50          Student          Male\n",
      "197          55          Student        Female\n",
      "198          29          Student        Female\n",
      "199          64         Personal        Female\n",
      "\n",
      "[200 rows x 3 columns]\n"
     ]
    }
   ],
   "source": [
    "#create some random varibales just for testing at the minute\n",
    "#researched https://www.delftstack.com/howto/python-pandas/how-to-randomly-shuffle-dataframe-rows-in-pandas/\n",
    "\n",
    "\n",
    "Loan_Types = (\"Personal\", \"Car\", \"Agri\", \"Student\",\"Home\" )\n",
    "Gender = (\"Male\", \"Female\")\n",
    "\n",
    "\n",
    "Random_Loan = np.random.choice(Loan_Types, size=200)\n",
    "Random_Gender = np.random.choice(Gender,200,.5)\n",
    "\n",
    "#Create a test data frame based on above to see does it work\n",
    "sample_df = pd.DataFrame({'sample_age':sample_age ,\n",
    "                   'sample_Loan_type':Random_Loan ,\n",
    "                   'sample_gender': Random_Gender})\n",
    "print(sample_df)"
   ]
  },
  {
   "cell_type": "code",
   "execution_count": 35,
   "metadata": {},
   "outputs": [
    {
     "data": {
      "text/plain": [
       "array([[51, 'Personal', 'Male'],\n",
       "       [57, 'Home', 'Male'],\n",
       "       [28, 'Personal', 'Female'],\n",
       "       [48, 'Personal', 'Male'],\n",
       "       [50, 'Car', 'Female'],\n",
       "       [24, 'Student', 'Male'],\n",
       "       [51, 'Home', 'Female'],\n",
       "       [48, 'Personal', 'Female'],\n",
       "       [12, 'Home', 'Male'],\n",
       "       [18, 'Personal', 'Female'],\n",
       "       [64, 'Agri', 'Male'],\n",
       "       [29, 'Student', 'Female'],\n",
       "       [52, 'Home', 'Male'],\n",
       "       [54, 'Personal', 'Female'],\n",
       "       [68, 'Car', 'Male'],\n",
       "       [56, 'Personal', 'Male'],\n",
       "       [24, 'Agri', 'Male'],\n",
       "       [55, 'Home', 'Female'],\n",
       "       [35, 'Agri', 'Male'],\n",
       "       [59, 'Agri', 'Male'],\n",
       "       [53, 'Home', 'Female'],\n",
       "       [33, 'Agri', 'Male'],\n",
       "       [49, 'Car', 'Male'],\n",
       "       [39, 'Car', 'Male'],\n",
       "       [69, 'Car', 'Female'],\n",
       "       [45, 'Car', 'Female'],\n",
       "       [39, 'Student', 'Female'],\n",
       "       [63, 'Car', 'Male'],\n",
       "       [-3, 'Home', 'Male'],\n",
       "       [45, 'Student', 'Male'],\n",
       "       [59, 'Personal', 'Male'],\n",
       "       [22, 'Car', 'Female'],\n",
       "       [35, 'Personal', 'Female'],\n",
       "       [29, 'Student', 'Male'],\n",
       "       [62, 'Student', 'Male'],\n",
       "       [36, 'Student', 'Female'],\n",
       "       [33, 'Home', 'Male'],\n",
       "       [39, 'Home', 'Male'],\n",
       "       [64, 'Personal', 'Female'],\n",
       "       [73, 'Home', 'Female'],\n",
       "       [37, 'Personal', 'Female'],\n",
       "       [35, 'Student', 'Female'],\n",
       "       [41, 'Agri', 'Female'],\n",
       "       [48, 'Personal', 'Female'],\n",
       "       [33, 'Student', 'Male'],\n",
       "       [55, 'Home', 'Female'],\n",
       "       [16, 'Home', 'Female'],\n",
       "       [39, 'Student', 'Male'],\n",
       "       [51, 'Agri', 'Female'],\n",
       "       [38, 'Student', 'Female'],\n",
       "       [32, 'Student', 'Female'],\n",
       "       [37, 'Home', 'Male'],\n",
       "       [93, 'Agri', 'Male'],\n",
       "       [35, 'Agri', 'Male'],\n",
       "       [44, 'Home', 'Male'],\n",
       "       [31, 'Car', 'Male'],\n",
       "       [55, 'Student', 'Female'],\n",
       "       [38, 'Student', 'Female'],\n",
       "       [36, 'Student', 'Male'],\n",
       "       [53, 'Agri', 'Female'],\n",
       "       [40, 'Home', 'Male'],\n",
       "       [52, 'Car', 'Female'],\n",
       "       [57, 'Personal', 'Male'],\n",
       "       [53, 'Agri', 'Male'],\n",
       "       [49, 'Car', 'Male'],\n",
       "       [48, 'Student', 'Female'],\n",
       "       [61, 'Home', 'Male'],\n",
       "       [51, 'Car', 'Male'],\n",
       "       [43, 'Car', 'Male'],\n",
       "       [69, 'Personal', 'Female'],\n",
       "       [45, 'Car', 'Female'],\n",
       "       [28, 'Student', 'Female'],\n",
       "       [55, 'Personal', 'Female'],\n",
       "       [27, 'Student', 'Male'],\n",
       "       [34, 'Student', 'Male'],\n",
       "       [52, 'Personal', 'Female'],\n",
       "       [57, 'Personal', 'Female'],\n",
       "       [31, 'Car', 'Male'],\n",
       "       [-2, 'Home', 'Female'],\n",
       "       [2, 'Car', 'Female'],\n",
       "       [50, 'Agri', 'Male'],\n",
       "       [45, 'Student', 'Female'],\n",
       "       [54, 'Agri', 'Male'],\n",
       "       [66, 'Home', 'Female'],\n",
       "       [37, 'Student', 'Male'],\n",
       "       [55, 'Agri', 'Male'],\n",
       "       [45, 'Personal', 'Male'],\n",
       "       [51, 'Home', 'Male'],\n",
       "       [46, 'Car', 'Female'],\n",
       "       [51, 'Student', 'Male'],\n",
       "       [58, 'Personal', 'Male'],\n",
       "       [37, 'Personal', 'Female'],\n",
       "       [22, 'Car', 'Female'],\n",
       "       [40, 'Home', 'Female'],\n",
       "       [70, 'Personal', 'Male'],\n",
       "       [45, 'Car', 'Male'],\n",
       "       [43, 'Personal', 'Male'],\n",
       "       [37, 'Car', 'Female'],\n",
       "       [52, 'Car', 'Male'],\n",
       "       [31, 'Student', 'Male'],\n",
       "       [45, 'Car', 'Female'],\n",
       "       [44, 'Home', 'Female'],\n",
       "       [39, 'Agri', 'Male'],\n",
       "       [31, 'Home', 'Male'],\n",
       "       [40, 'Agri', 'Female'],\n",
       "       [38, 'Agri', 'Female'],\n",
       "       [44, 'Home', 'Male'],\n",
       "       [36, 'Personal', 'Female'],\n",
       "       [39, 'Agri', 'Male'],\n",
       "       [56, 'Student', 'Female'],\n",
       "       [18, 'Home', 'Male'],\n",
       "       [76, 'Home', 'Female'],\n",
       "       [42, 'Agri', 'Female'],\n",
       "       [80, 'Personal', 'Male'],\n",
       "       [48, 'Student', 'Male'],\n",
       "       [42, 'Personal', 'Female'],\n",
       "       [35, 'Agri', 'Female'],\n",
       "       [27, 'Home', 'Male'],\n",
       "       [60, 'Student', 'Female'],\n",
       "       [46, 'Personal', 'Female'],\n",
       "       [66, 'Student', 'Female'],\n",
       "       [23, 'Personal', 'Male'],\n",
       "       [52, 'Personal', 'Female'],\n",
       "       [27, 'Home', 'Female'],\n",
       "       [23, 'Personal', 'Male'],\n",
       "       [48, 'Car', 'Female'],\n",
       "       [58, 'Car', 'Female'],\n",
       "       [36, 'Student', 'Female'],\n",
       "       [32, 'Home', 'Female'],\n",
       "       [15, 'Personal', 'Female'],\n",
       "       [56, 'Student', 'Female'],\n",
       "       [20, 'Personal', 'Male'],\n",
       "       [36, 'Student', 'Female'],\n",
       "       [50, 'Student', 'Male'],\n",
       "       [61, 'Agri', 'Female'],\n",
       "       [29, 'Home', 'Female'],\n",
       "       [50, 'Personal', 'Male'],\n",
       "       [39, 'Agri', 'Female'],\n",
       "       [73, 'Student', 'Male'],\n",
       "       [28, 'Student', 'Male'],\n",
       "       [45, 'Car', 'Female'],\n",
       "       [36, 'Car', 'Female'],\n",
       "       [50, 'Personal', 'Female'],\n",
       "       [20, 'Student', 'Male'],\n",
       "       [54, 'Student', 'Female'],\n",
       "       [56, 'Personal', 'Female'],\n",
       "       [23, 'Agri', 'Male'],\n",
       "       [23, 'Car', 'Male'],\n",
       "       [44, 'Car', 'Male'],\n",
       "       [38, 'Student', 'Female'],\n",
       "       [35, 'Personal', 'Female'],\n",
       "       [43, 'Car', 'Male'],\n",
       "       [20, 'Student', 'Male'],\n",
       "       [64, 'Student', 'Female'],\n",
       "       [42, 'Home', 'Female'],\n",
       "       [51, 'Personal', 'Female'],\n",
       "       [65, 'Home', 'Male'],\n",
       "       [43, 'Personal', 'Male'],\n",
       "       [27, 'Home', 'Male'],\n",
       "       [36, 'Personal', 'Female'],\n",
       "       [50, 'Car', 'Female'],\n",
       "       [27, 'Agri', 'Female'],\n",
       "       [46, 'Student', 'Male'],\n",
       "       [35, 'Home', 'Male'],\n",
       "       [41, 'Agri', 'Male'],\n",
       "       [59, 'Personal', 'Female'],\n",
       "       [34, 'Agri', 'Female'],\n",
       "       [40, 'Agri', 'Male'],\n",
       "       [58, 'Home', 'Male'],\n",
       "       [15, 'Student', 'Female'],\n",
       "       [46, 'Agri', 'Male'],\n",
       "       [44, 'Agri', 'Female'],\n",
       "       [47, 'Car', 'Male'],\n",
       "       [62, 'Car', 'Male'],\n",
       "       [62, 'Student', 'Female'],\n",
       "       [34, 'Student', 'Female'],\n",
       "       [30, 'Agri', 'Female'],\n",
       "       [46, 'Personal', 'Male'],\n",
       "       [39, 'Car', 'Male'],\n",
       "       [72, 'Agri', 'Female'],\n",
       "       [50, 'Personal', 'Male'],\n",
       "       [34, 'Car', 'Male'],\n",
       "       [51, 'Agri', 'Male'],\n",
       "       [60, 'Personal', 'Female'],\n",
       "       [65, 'Car', 'Female'],\n",
       "       [52, 'Agri', 'Male'],\n",
       "       [41, 'Car', 'Female'],\n",
       "       [69, 'Agri', 'Female'],\n",
       "       [67, 'Home', 'Female'],\n",
       "       [70, 'Agri', 'Female'],\n",
       "       [30, 'Home', 'Female'],\n",
       "       [58, 'Home', 'Female'],\n",
       "       [67, 'Agri', 'Female'],\n",
       "       [51, 'Home', 'Female'],\n",
       "       [52, 'Car', 'Female'],\n",
       "       [36, 'Agri', 'Male'],\n",
       "       [47, 'Personal', 'Male'],\n",
       "       [39, 'Personal', 'Female'],\n",
       "       [44, 'Home', 'Female'],\n",
       "       [38, 'Personal', 'Female']], dtype=object)"
      ]
     },
     "execution_count": 35,
     "metadata": {},
     "output_type": "execute_result"
    }
   ],
   "source": [
    "np.random.permutation(sample_df)"
   ]
  },
  {
   "cell_type": "code",
   "execution_count": null,
   "metadata": {},
   "outputs": [],
   "source": []
  }
 ],
 "metadata": {
  "kernelspec": {
   "display_name": "Python 3",
   "language": "python",
   "name": "python3"
  },
  "language_info": {
   "codemirror_mode": {
    "name": "ipython",
    "version": 3
   },
   "file_extension": ".py",
   "mimetype": "text/x-python",
   "name": "python",
   "nbconvert_exporter": "python",
   "pygments_lexer": "ipython3",
   "version": "3.8.3"
  }
 },
 "nbformat": 4,
 "nbformat_minor": 4
}
