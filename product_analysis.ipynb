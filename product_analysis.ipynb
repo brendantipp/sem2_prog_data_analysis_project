{
 "cells": [
  {
   "cell_type": "markdown",
   "metadata": {},
   "source": [
    "## Programming for Data Analyis Project Semester (2) 2020\n",
    "Brendan Ryan GMIT"
   ]
  },
  {
   "cell_type": "markdown",
   "metadata": {},
   "source": [
    "I have picked on a real world phenomenon in my own professional life. This is what  is the likelyhood of a member of the financial institution I work in availing of a service (in this case take a loan), based on their age, sex and employment status and then look at the the type of product they normally borrow for. "
   ]
  },
  {
   "cell_type": "markdown",
   "metadata": {},
   "source": [
    "I will be using the following variables\n",
    "\n",
    "- AGE\n",
    "- Gender\n",
    "- Loan Category\n",
    "- Employment Status\n"
   ]
  },
  {
   "cell_type": "markdown",
   "metadata": {},
   "source": [
    "Import the required libraries\n",
    "** Give brief descriptoin of what each library does.."
   ]
  },
  {
   "cell_type": "code",
   "execution_count": 1,
   "metadata": {},
   "outputs": [],
   "source": [
    "import pandas as pd\n",
    "import numpy as np\n",
    "import seaborn as sns\n",
    "import matplotlib.pyplot as plt"
   ]
  },
  {
   "cell_type": "markdown",
   "metadata": {},
   "source": [
    "Import our Data Set based on the output of ones years lending \n"
   ]
  },
  {
   "cell_type": "code",
   "execution_count": 2,
   "metadata": {},
   "outputs": [],
   "source": [
    "import pandas as pd\n",
    "df = pd.read_csv('test.csv')"
   ]
  },
  {
   "cell_type": "markdown",
   "metadata": {},
   "source": [
    "Test that our data set has loaded\n",
    "** note maybe add in here only to load some rows"
   ]
  },
  {
   "cell_type": "code",
   "execution_count": 3,
   "metadata": {},
   "outputs": [
    {
     "data": {
      "text/html": [
       "<div>\n",
       "<style scoped>\n",
       "    .dataframe tbody tr th:only-of-type {\n",
       "        vertical-align: middle;\n",
       "    }\n",
       "\n",
       "    .dataframe tbody tr th {\n",
       "        vertical-align: top;\n",
       "    }\n",
       "\n",
       "    .dataframe thead th {\n",
       "        text-align: right;\n",
       "    }\n",
       "</style>\n",
       "<table border=\"1\" class=\"dataframe\">\n",
       "  <thead>\n",
       "    <tr style=\"text-align: right;\">\n",
       "      <th></th>\n",
       "      <th>Financial Month</th>\n",
       "      <th>Age</th>\n",
       "      <th>Loan Interest Code Description</th>\n",
       "      <th>Gender</th>\n",
       "      <th>Employment Status</th>\n",
       "    </tr>\n",
       "  </thead>\n",
       "  <tbody>\n",
       "    <tr>\n",
       "      <th>0</th>\n",
       "      <td>Jan-19</td>\n",
       "      <td>20</td>\n",
       "      <td>SECURED BY SAVINGS 6% APR</td>\n",
       "      <td>FEMALE</td>\n",
       "      <td>EMPLOYED FULL-TIME</td>\n",
       "    </tr>\n",
       "    <tr>\n",
       "      <th>1</th>\n",
       "      <td>Jan-19</td>\n",
       "      <td>21</td>\n",
       "      <td>NORMAL RATE 10.4% APR</td>\n",
       "      <td>Male</td>\n",
       "      <td>EMPLOYED PART-TIME</td>\n",
       "    </tr>\n",
       "    <tr>\n",
       "      <th>2</th>\n",
       "      <td>Jan-19</td>\n",
       "      <td>22</td>\n",
       "      <td>CONNECT FIRST TIME 7.12% APR</td>\n",
       "      <td>Male</td>\n",
       "      <td>EMPLOYED FULL-TIME</td>\n",
       "    </tr>\n",
       "    <tr>\n",
       "      <th>3</th>\n",
       "      <td>Jan-19</td>\n",
       "      <td>22</td>\n",
       "      <td>NORMAL RATE 10.4% APR</td>\n",
       "      <td>Male</td>\n",
       "      <td>EMPLOYED FULL-TIME</td>\n",
       "    </tr>\n",
       "    <tr>\n",
       "      <th>4</th>\n",
       "      <td>Jan-19</td>\n",
       "      <td>22</td>\n",
       "      <td>NORMAL RATE 10.4% APR</td>\n",
       "      <td>Male</td>\n",
       "      <td>UNEMPLOYED</td>\n",
       "    </tr>\n",
       "    <tr>\n",
       "      <th>...</th>\n",
       "      <td>...</td>\n",
       "      <td>...</td>\n",
       "      <td>...</td>\n",
       "      <td>...</td>\n",
       "      <td>...</td>\n",
       "    </tr>\n",
       "    <tr>\n",
       "      <th>4024</th>\n",
       "      <td>Dec-19</td>\n",
       "      <td>80</td>\n",
       "      <td>SPECIAL CAR RATE 8.5 APR</td>\n",
       "      <td>Male</td>\n",
       "      <td>RETIRED</td>\n",
       "    </tr>\n",
       "    <tr>\n",
       "      <th>4025</th>\n",
       "      <td>Dec-19</td>\n",
       "      <td>81</td>\n",
       "      <td>NORMAL RATE 10.4% APR</td>\n",
       "      <td>FEMALE</td>\n",
       "      <td>RETIRED</td>\n",
       "    </tr>\n",
       "    <tr>\n",
       "      <th>4026</th>\n",
       "      <td>Dec-19</td>\n",
       "      <td>82</td>\n",
       "      <td>NORMAL RATE 10.4% APR</td>\n",
       "      <td>FEMALE</td>\n",
       "      <td>RETIRED</td>\n",
       "    </tr>\n",
       "    <tr>\n",
       "      <th>4027</th>\n",
       "      <td>Dec-19</td>\n",
       "      <td>85</td>\n",
       "      <td>SECURED BY SAVINGS 6% APR</td>\n",
       "      <td>FEMALE</td>\n",
       "      <td>RETIRED</td>\n",
       "    </tr>\n",
       "    <tr>\n",
       "      <th>4028</th>\n",
       "      <td>Dec-19</td>\n",
       "      <td>89</td>\n",
       "      <td>SECURED BY SAVINGS 6% APR</td>\n",
       "      <td>FEMALE</td>\n",
       "      <td>OTHER</td>\n",
       "    </tr>\n",
       "  </tbody>\n",
       "</table>\n",
       "<p>4029 rows × 5 columns</p>\n",
       "</div>"
      ],
      "text/plain": [
       "     Financial Month  Age Loan Interest Code Description  Gender  \\\n",
       "0             Jan-19   20      SECURED BY SAVINGS 6% APR  FEMALE   \n",
       "1             Jan-19   21          NORMAL RATE 10.4% APR    Male   \n",
       "2             Jan-19   22   CONNECT FIRST TIME 7.12% APR    Male   \n",
       "3             Jan-19   22          NORMAL RATE 10.4% APR    Male   \n",
       "4             Jan-19   22          NORMAL RATE 10.4% APR    Male   \n",
       "...              ...  ...                            ...     ...   \n",
       "4024          Dec-19   80       SPECIAL CAR RATE 8.5 APR    Male   \n",
       "4025          Dec-19   81          NORMAL RATE 10.4% APR  FEMALE   \n",
       "4026          Dec-19   82          NORMAL RATE 10.4% APR  FEMALE   \n",
       "4027          Dec-19   85      SECURED BY SAVINGS 6% APR  FEMALE   \n",
       "4028          Dec-19   89      SECURED BY SAVINGS 6% APR  FEMALE   \n",
       "\n",
       "       Employment Status  \n",
       "0     EMPLOYED FULL-TIME  \n",
       "1     EMPLOYED PART-TIME  \n",
       "2     EMPLOYED FULL-TIME  \n",
       "3     EMPLOYED FULL-TIME  \n",
       "4             UNEMPLOYED  \n",
       "...                  ...  \n",
       "4024             RETIRED  \n",
       "4025             RETIRED  \n",
       "4026             RETIRED  \n",
       "4027             RETIRED  \n",
       "4028               OTHER  \n",
       "\n",
       "[4029 rows x 5 columns]"
      ]
     },
     "execution_count": 3,
     "metadata": {},
     "output_type": "execute_result"
    }
   ],
   "source": [
    "df"
   ]
  },
  {
   "cell_type": "markdown",
   "metadata": {},
   "source": [
    "Test that our improted data looks ok by using df.head and df.tail "
   ]
  },
  {
   "cell_type": "code",
   "execution_count": 4,
   "metadata": {},
   "outputs": [
    {
     "data": {
      "text/html": [
       "<div>\n",
       "<style scoped>\n",
       "    .dataframe tbody tr th:only-of-type {\n",
       "        vertical-align: middle;\n",
       "    }\n",
       "\n",
       "    .dataframe tbody tr th {\n",
       "        vertical-align: top;\n",
       "    }\n",
       "\n",
       "    .dataframe thead th {\n",
       "        text-align: right;\n",
       "    }\n",
       "</style>\n",
       "<table border=\"1\" class=\"dataframe\">\n",
       "  <thead>\n",
       "    <tr style=\"text-align: right;\">\n",
       "      <th></th>\n",
       "      <th>Financial Month</th>\n",
       "      <th>Age</th>\n",
       "      <th>Loan Interest Code Description</th>\n",
       "      <th>Gender</th>\n",
       "      <th>Employment Status</th>\n",
       "    </tr>\n",
       "  </thead>\n",
       "  <tbody>\n",
       "    <tr>\n",
       "      <th>0</th>\n",
       "      <td>Jan-19</td>\n",
       "      <td>20</td>\n",
       "      <td>SECURED BY SAVINGS 6% APR</td>\n",
       "      <td>FEMALE</td>\n",
       "      <td>EMPLOYED FULL-TIME</td>\n",
       "    </tr>\n",
       "    <tr>\n",
       "      <th>1</th>\n",
       "      <td>Jan-19</td>\n",
       "      <td>21</td>\n",
       "      <td>NORMAL RATE 10.4% APR</td>\n",
       "      <td>Male</td>\n",
       "      <td>EMPLOYED PART-TIME</td>\n",
       "    </tr>\n",
       "    <tr>\n",
       "      <th>2</th>\n",
       "      <td>Jan-19</td>\n",
       "      <td>22</td>\n",
       "      <td>CONNECT FIRST TIME 7.12% APR</td>\n",
       "      <td>Male</td>\n",
       "      <td>EMPLOYED FULL-TIME</td>\n",
       "    </tr>\n",
       "    <tr>\n",
       "      <th>3</th>\n",
       "      <td>Jan-19</td>\n",
       "      <td>22</td>\n",
       "      <td>NORMAL RATE 10.4% APR</td>\n",
       "      <td>Male</td>\n",
       "      <td>EMPLOYED FULL-TIME</td>\n",
       "    </tr>\n",
       "    <tr>\n",
       "      <th>4</th>\n",
       "      <td>Jan-19</td>\n",
       "      <td>22</td>\n",
       "      <td>NORMAL RATE 10.4% APR</td>\n",
       "      <td>Male</td>\n",
       "      <td>UNEMPLOYED</td>\n",
       "    </tr>\n",
       "  </tbody>\n",
       "</table>\n",
       "</div>"
      ],
      "text/plain": [
       "  Financial Month  Age Loan Interest Code Description  Gender  \\\n",
       "0          Jan-19   20      SECURED BY SAVINGS 6% APR  FEMALE   \n",
       "1          Jan-19   21          NORMAL RATE 10.4% APR    Male   \n",
       "2          Jan-19   22   CONNECT FIRST TIME 7.12% APR    Male   \n",
       "3          Jan-19   22          NORMAL RATE 10.4% APR    Male   \n",
       "4          Jan-19   22          NORMAL RATE 10.4% APR    Male   \n",
       "\n",
       "    Employment Status  \n",
       "0  EMPLOYED FULL-TIME  \n",
       "1  EMPLOYED PART-TIME  \n",
       "2  EMPLOYED FULL-TIME  \n",
       "3  EMPLOYED FULL-TIME  \n",
       "4          UNEMPLOYED  "
      ]
     },
     "execution_count": 4,
     "metadata": {},
     "output_type": "execute_result"
    }
   ],
   "source": [
    "df.head()"
   ]
  },
  {
   "cell_type": "code",
   "execution_count": 5,
   "metadata": {
    "scrolled": true
   },
   "outputs": [
    {
     "data": {
      "text/html": [
       "<div>\n",
       "<style scoped>\n",
       "    .dataframe tbody tr th:only-of-type {\n",
       "        vertical-align: middle;\n",
       "    }\n",
       "\n",
       "    .dataframe tbody tr th {\n",
       "        vertical-align: top;\n",
       "    }\n",
       "\n",
       "    .dataframe thead th {\n",
       "        text-align: right;\n",
       "    }\n",
       "</style>\n",
       "<table border=\"1\" class=\"dataframe\">\n",
       "  <thead>\n",
       "    <tr style=\"text-align: right;\">\n",
       "      <th></th>\n",
       "      <th>Financial Month</th>\n",
       "      <th>Age</th>\n",
       "      <th>Loan Interest Code Description</th>\n",
       "      <th>Gender</th>\n",
       "      <th>Employment Status</th>\n",
       "    </tr>\n",
       "  </thead>\n",
       "  <tbody>\n",
       "    <tr>\n",
       "      <th>4024</th>\n",
       "      <td>Dec-19</td>\n",
       "      <td>80</td>\n",
       "      <td>SPECIAL CAR RATE 8.5 APR</td>\n",
       "      <td>Male</td>\n",
       "      <td>RETIRED</td>\n",
       "    </tr>\n",
       "    <tr>\n",
       "      <th>4025</th>\n",
       "      <td>Dec-19</td>\n",
       "      <td>81</td>\n",
       "      <td>NORMAL RATE 10.4% APR</td>\n",
       "      <td>FEMALE</td>\n",
       "      <td>RETIRED</td>\n",
       "    </tr>\n",
       "    <tr>\n",
       "      <th>4026</th>\n",
       "      <td>Dec-19</td>\n",
       "      <td>82</td>\n",
       "      <td>NORMAL RATE 10.4% APR</td>\n",
       "      <td>FEMALE</td>\n",
       "      <td>RETIRED</td>\n",
       "    </tr>\n",
       "    <tr>\n",
       "      <th>4027</th>\n",
       "      <td>Dec-19</td>\n",
       "      <td>85</td>\n",
       "      <td>SECURED BY SAVINGS 6% APR</td>\n",
       "      <td>FEMALE</td>\n",
       "      <td>RETIRED</td>\n",
       "    </tr>\n",
       "    <tr>\n",
       "      <th>4028</th>\n",
       "      <td>Dec-19</td>\n",
       "      <td>89</td>\n",
       "      <td>SECURED BY SAVINGS 6% APR</td>\n",
       "      <td>FEMALE</td>\n",
       "      <td>OTHER</td>\n",
       "    </tr>\n",
       "  </tbody>\n",
       "</table>\n",
       "</div>"
      ],
      "text/plain": [
       "     Financial Month  Age Loan Interest Code Description  Gender  \\\n",
       "4024          Dec-19   80       SPECIAL CAR RATE 8.5 APR    Male   \n",
       "4025          Dec-19   81          NORMAL RATE 10.4% APR  FEMALE   \n",
       "4026          Dec-19   82          NORMAL RATE 10.4% APR  FEMALE   \n",
       "4027          Dec-19   85      SECURED BY SAVINGS 6% APR  FEMALE   \n",
       "4028          Dec-19   89      SECURED BY SAVINGS 6% APR  FEMALE   \n",
       "\n",
       "     Employment Status  \n",
       "4024           RETIRED  \n",
       "4025           RETIRED  \n",
       "4026           RETIRED  \n",
       "4027           RETIRED  \n",
       "4028             OTHER  "
      ]
     },
     "execution_count": 5,
     "metadata": {},
     "output_type": "execute_result"
    }
   ],
   "source": [
    "df.tail()"
   ]
  },
  {
   "cell_type": "markdown",
   "metadata": {},
   "source": [
    "Everything looks ok above we can see the shape of our dataframe is correct"
   ]
  },
  {
   "cell_type": "markdown",
   "metadata": {},
   "source": [
    "Lets have a look at the typoe of varibales we have to work with using the df.dtypes funtion "
   ]
  },
  {
   "cell_type": "code",
   "execution_count": 6,
   "metadata": {},
   "outputs": [
    {
     "data": {
      "text/plain": [
       "Financial Month                   object\n",
       "Age                                int64\n",
       "Loan Interest Code Description    object\n",
       "Gender                            object\n",
       "Employment Status                 object\n",
       "dtype: object"
      ]
     },
     "execution_count": 6,
     "metadata": {},
     "output_type": "execute_result"
    }
   ],
   "source": [
    "df.dtypes"
   ]
  },
  {
   "cell_type": "markdown",
   "metadata": {},
   "source": [
    "Ok as we can see from above we are dealing with 2 varibales of type object and 1 variable of type int64"
   ]
  },
  {
   "cell_type": "code",
   "execution_count": 7,
   "metadata": {},
   "outputs": [
    {
     "data": {
      "text/html": [
       "<div>\n",
       "<style scoped>\n",
       "    .dataframe tbody tr th:only-of-type {\n",
       "        vertical-align: middle;\n",
       "    }\n",
       "\n",
       "    .dataframe tbody tr th {\n",
       "        vertical-align: top;\n",
       "    }\n",
       "\n",
       "    .dataframe thead th {\n",
       "        text-align: right;\n",
       "    }\n",
       "</style>\n",
       "<table border=\"1\" class=\"dataframe\">\n",
       "  <thead>\n",
       "    <tr style=\"text-align: right;\">\n",
       "      <th></th>\n",
       "      <th>Age</th>\n",
       "    </tr>\n",
       "  </thead>\n",
       "  <tbody>\n",
       "    <tr>\n",
       "      <th>count</th>\n",
       "      <td>4029.000000</td>\n",
       "    </tr>\n",
       "    <tr>\n",
       "      <th>mean</th>\n",
       "      <td>45.386200</td>\n",
       "    </tr>\n",
       "    <tr>\n",
       "      <th>std</th>\n",
       "      <td>15.624687</td>\n",
       "    </tr>\n",
       "    <tr>\n",
       "      <th>min</th>\n",
       "      <td>19.000000</td>\n",
       "    </tr>\n",
       "    <tr>\n",
       "      <th>25%</th>\n",
       "      <td>32.000000</td>\n",
       "    </tr>\n",
       "    <tr>\n",
       "      <th>50%</th>\n",
       "      <td>44.000000</td>\n",
       "    </tr>\n",
       "    <tr>\n",
       "      <th>75%</th>\n",
       "      <td>57.000000</td>\n",
       "    </tr>\n",
       "    <tr>\n",
       "      <th>max</th>\n",
       "      <td>89.000000</td>\n",
       "    </tr>\n",
       "  </tbody>\n",
       "</table>\n",
       "</div>"
      ],
      "text/plain": [
       "               Age\n",
       "count  4029.000000\n",
       "mean     45.386200\n",
       "std      15.624687\n",
       "min      19.000000\n",
       "25%      32.000000\n",
       "50%      44.000000\n",
       "75%      57.000000\n",
       "max      89.000000"
      ]
     },
     "execution_count": 7,
     "metadata": {},
     "output_type": "execute_result"
    }
   ],
   "source": [
    "df.describe()"
   ]
  },
  {
   "cell_type": "markdown",
   "metadata": {},
   "source": [
    "ok as Age is our only colum of type integer it is the only one which will be returned for statistical values as shown above "
   ]
  },
  {
   "cell_type": "markdown",
   "metadata": {},
   "source": [
    "lets have a look at df.info which is another usefulo tol to give us more info on our dataframe"
   ]
  },
  {
   "cell_type": "code",
   "execution_count": 8,
   "metadata": {},
   "outputs": [
    {
     "name": "stdout",
     "output_type": "stream",
     "text": [
      "<class 'pandas.core.frame.DataFrame'>\n",
      "RangeIndex: 4029 entries, 0 to 4028\n",
      "Data columns (total 5 columns):\n",
      " #   Column                          Non-Null Count  Dtype \n",
      "---  ------                          --------------  ----- \n",
      " 0   Financial Month                 4029 non-null   object\n",
      " 1   Age                             4029 non-null   int64 \n",
      " 2   Loan Interest Code Description  4029 non-null   object\n",
      " 3   Gender                          4027 non-null   object\n",
      " 4   Employment Status               4029 non-null   object\n",
      "dtypes: int64(1), object(4)\n",
      "memory usage: 157.5+ KB\n"
     ]
    }
   ],
   "source": [
    "df.info()"
   ]
  },
  {
   "cell_type": "markdown",
   "metadata": {},
   "source": [
    "look at making the Financial month a date time # help from https://https://pbpython.com/pandas_dtypes.html"
   ]
  },
  {
   "cell_type": "code",
   "execution_count": 9,
   "metadata": {},
   "outputs": [],
   "source": [
    "#pd.to_datetime(df[\"Financial Month\"]) - not working lets come back to this and research some more"
   ]
  },
  {
   "cell_type": "markdown",
   "metadata": {},
   "source": [
    "Best practice convernt some of our data types into categories "
   ]
  },
  {
   "cell_type": "code",
   "execution_count": 19,
   "metadata": {},
   "outputs": [],
   "source": [
    "df[[\"Gender\", \"Employment Status\",\"Loan Interest Code Description\"]] = df[[\"Gender\", \"Employment Status\",\"Loan Interest Code Description\"]].astype(\"category\")\n",
    "#df[\"Loan Interest Code Description\"] = df[\"Loan Interest Code Description\"].astype(\"category\")\n",
    "#df[\"Employment Status\"] = df[\"Employment Status\"].astype(\"category\")"
   ]
  },
  {
   "cell_type": "code",
   "execution_count": 20,
   "metadata": {},
   "outputs": [
    {
     "name": "stdout",
     "output_type": "stream",
     "text": [
      "<class 'pandas.core.frame.DataFrame'>\n",
      "RangeIndex: 4029 entries, 0 to 4028\n",
      "Data columns (total 5 columns):\n",
      " #   Column                          Non-Null Count  Dtype   \n",
      "---  ------                          --------------  -----   \n",
      " 0   Financial Month                 4029 non-null   object  \n",
      " 1   Age                             4029 non-null   int64   \n",
      " 2   Loan Interest Code Description  4029 non-null   category\n",
      " 3   Gender                          4027 non-null   category\n",
      " 4   Employment Status               4029 non-null   category\n",
      "dtypes: category(3), int64(1), object(1)\n",
      "memory usage: 76.4+ KB\n"
     ]
    }
   ],
   "source": [
    "df.info()"
   ]
  },
  {
   "cell_type": "code",
   "execution_count": null,
   "metadata": {},
   "outputs": [],
   "source": []
  }
 ],
 "metadata": {
  "kernelspec": {
   "display_name": "Python 3",
   "language": "python",
   "name": "python3"
  },
  "language_info": {
   "codemirror_mode": {
    "name": "ipython",
    "version": 3
   },
   "file_extension": ".py",
   "mimetype": "text/x-python",
   "name": "python",
   "nbconvert_exporter": "python",
   "pygments_lexer": "ipython3",
   "version": "3.8.3"
  }
 },
 "nbformat": 4,
 "nbformat_minor": 4
}
